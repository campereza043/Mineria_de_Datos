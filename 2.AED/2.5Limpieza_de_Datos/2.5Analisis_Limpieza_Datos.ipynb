{
  "cells": [
    {
      "cell_type": "markdown",
      "metadata": {
        "id": "06ivyimCUpbD"
      },
      "source": [
        "### Preparación de Datos\n",
        "\n",
        "La preparación de datos o limpieza de datos es un proceso que permite analizar la información para detectar y corregir los errores que determinado dataset pueda presentar (E.g. datos nulos). Estos errores se pueden clasificar en:\n",
        "- **Tipos de datos**: representación númerica de un datos que tiene un significado categórico (E.g. números que reprentan un estado civil o un color).\n",
        "- **Datos categóricos**: problemas de escritura en los datos de tipo categórico que pueden causar conflictos (E.g. mismo valor en el campo pero diferencias entre mayúsculas y minúsculas => RoJO y rojo).\n",
        "- **Uniformidad de los datos**: mismo formato para todos los valores de un campo (E.g. fechas con un único formato).\n",
        "- **Completitud de los datos**: presencia de datos nulos, información faltante.\n",
        "\n",
        "Esta limpieza de datos es importante para poder tener datasets de buena calidad de forma que los resultados de los procesos que se quieran realizar sobre los datos sean acertados.\n",
        "\n",
        "Para este ejemplo vamos a utilizar el siguiente dataset: https://www.kaggle.com/rush4ratio/video-game-sales-with-ratings. Este dataset, llamado **Video Game Sales with Ratings**, contiene información de ventas de un listado de videojuegos incluyendo los nombres de los videojuegos, la plataforma, el año de publicación, el género, el editor, el desarrollador, sus rankings entre otros. Si se desea hacer un análisis de datos sobre este dataset es importante primero realizar una limpieza de datos.\n",
        "\n",
        "**Nota de interés**: este dataset que veremos en este ejemplo es un dataset construído utilizando Web Scraping, una técnica de obtención de datos, a partir de un sitio web. Este tema lo veremos en próximas unidades.\n",
        "\n",
        "#### Pasos importantes para realizar la limpieza de los datos:\n",
        "1. Conocer toda la información general del dataset. Para este ejemplo, como ya se mencionó, se utilizará el dataset **Video Game Sales with Ratings** que contiene los datos de ventas de un listado de más de 10K videojuegos, todos ellos con más de 100K copias vendidas. Las columnas que contiene este dataset son las siguientes:\n",
        "   - **Name**: nombre del videojuego. Tipo categórico.\n",
        "   - **Platorm**: nombre de la plataforma destino del videojuego. Tipo categórico.\n",
        "   - **Year_of_Release**: año de publicación del videojuego. Tipo numérico.\n",
        "   - **Genre**: género del videojuego. Tipo categórico.\n",
        "   - **Publisher**: editor del videojuego. Tipo categórico.\n",
        "   - **NA_Sales**: número de ventas en Norte América. Tipo numérico.\n",
        "   - **EU_Sales**: número de ventas en Europa. Tipo numérico.\n",
        "   - **JP_Sales**: número de ventas en Japón. Tipo numérico.\n",
        "   - **Other_Sales**: número de ventas en otras regiones: Tipo numérico.\n",
        "   - **Global_Sales**: número de ventas a nivel global: Tipo numérico.\n",
        "   - **Critic_Score**: puntaje compilado de las críticas al videoojuego en Metacritic. Tipo numérico.\n",
        "   - **Critic_Count**: número de críticas realizadas al videojuego en Critic_Score. Tipo numérico.\n",
        "   - **User_Score**: puntaje dado por los usuarios de Metacritic al videojuego. Tipo numérico.\n",
        "   - **User_Count**: numéro de usuarios que dieron su puntaje al videojuego en User_Score. Tipo numérico.\n",
        "   - **Devloper**: desarrollador del videojuego. Tipo categórico.\n",
        "   - **Rating**: Rating ESRB. Tipo categórico.\n",
        "\n",
        "2. Realizar un análisis exploratorio de los datos para identificar los problemas o errores presentes en el dataset y pensar en las posibles estrategias para solucionar dichos inconvenientes.\n",
        "3. Aplicar las estrategias de limpieza de datos.\n"
      ]
    },
    {
      "cell_type": "markdown",
      "metadata": {
        "id": "OMSZh0AwUpbY"
      },
      "source": [
        "### Una vez conocida la información general del dataset ¡podemos comenzar con el análisis exploratorio!\n",
        "\n",
        "Para realizar el análisis exploratorio y la posterior limpieza de los datos vamos a utilizar el lenguaje de programación Python, específicamente su módulo **pandas**. Para comenzar debemos importar dicho módulo."
      ]
    },
    {
      "cell_type": "code",
      "execution_count": 1,
      "metadata": {
        "id": "Dmbyhv-oUpbZ"
      },
      "outputs": [],
      "source": [
        "# Importar el o los módulos necesarios para analizar y limpiar los datos.\n",
        "import pandas as pd\n",
        "import numpy as np\n",
        "from matplotlib import pyplot as plt"
      ]
    },
    {
      "cell_type": "markdown",
      "metadata": {
        "id": "XFHrSd-DUpbc"
      },
      "source": [
        "A continuación debemos importar el dataset con el que vamos a trabajar, en este caso el dataset **Video Game Sales with Ratings**. Para importarlo debemos descargar el archivo *.csv*, ubicado en del siguiente link https://www.kaggle.com/rush4ratio/video-game-sales-with-ratings. A continuación debemos ubicarlo en el mismo directorio donde se encuentra ubicado este *notebook*. Por último usaremos pandas para importar el dataset y asignarlo a una variable."
      ]
    },
    {
      "cell_type": "code",
      "execution_count": 2,
      "metadata": {
        "colab": {
          "base_uri": "https://localhost:8080/"
        },
        "id": "u1RQ0DosZsoT",
        "outputId": "ca2d382a-daf0-449d-82b7-21baa740043e"
      },
      "outputs": [
        {
          "ename": "ModuleNotFoundError",
          "evalue": "No module named 'google'",
          "output_type": "error",
          "traceback": [
            "\u001b[31m---------------------------------------------------------------------------\u001b[39m",
            "\u001b[31mModuleNotFoundError\u001b[39m                       Traceback (most recent call last)",
            "\u001b[36mCell\u001b[39m\u001b[36m \u001b[39m\u001b[32mIn[2]\u001b[39m\u001b[32m, line 2\u001b[39m\n\u001b[32m      1\u001b[39m \u001b[38;5;66;03m#Permitir acceso a la carpeta del Drive\u001b[39;00m\n\u001b[32m----> \u001b[39m\u001b[32m2\u001b[39m \u001b[38;5;28;01mfrom\u001b[39;00m\u001b[38;5;250m \u001b[39m\u001b[34;01mgoogle\u001b[39;00m\u001b[34;01m.\u001b[39;00m\u001b[34;01mcolab\u001b[39;00m\u001b[38;5;250m \u001b[39m\u001b[38;5;28;01mimport\u001b[39;00m drive\n\u001b[32m      3\u001b[39m drive.mount(\u001b[33m'\u001b[39m\u001b[33m/content/drive\u001b[39m\u001b[33m'\u001b[39m)\n",
            "\u001b[31mModuleNotFoundError\u001b[39m: No module named 'google'"
          ]
        }
      ],
      "source": [
        "#Permitir acceso a la carpeta del Drive\n",
        "from google.colab import drive\n",
        "drive.mount('/content/drive')"
      ]
    },
    {
      "cell_type": "code",
      "execution_count": 4,
      "metadata": {
        "id": "P6N_muxBUpbd"
      },
      "outputs": [],
      "source": [
        "# Para importar el dataset y guardarlo en una variable usamos el método read_csv().\n",
        "original_df = pd.read_csv('C:\\\\Users\\\\perez\\\\OneDrive - Universidad Distrital Francisco José de Caldas\\\\UD\\\\Minería de Datos\\\\Mineria_de_Datos\\\\2.AED\\\\2.5Limpieza_de_Datos\\\\Video_Games_Sales_as_at_22_Dec_2016.csv')"
      ]
    },
    {
      "cell_type": "markdown",
      "metadata": {
        "id": "46Ubee7rUpbd"
      },
      "source": [
        "Si en el dataset que importamos no están especificados los nombres de las columnas podemos usar el parámetro **header=None** en el método de pandas *read_csv()*, esto con el fin de evitar que el primer registro de dataset sea tratado como las columnas del mismo (E.g. esto puede pasar para archivos de extensión .data). Con el dataset guardado en la variable *original_df* podemos visualizar los datos."
      ]
    },
    {
      "cell_type": "code",
      "execution_count": 5,
      "metadata": {
        "colab": {
          "base_uri": "https://localhost:8080/",
          "height": 365
        },
        "id": "DJAenhnuUpbe",
        "outputId": "07c18dc5-fc3b-4c84-bbc3-2727a5939895"
      },
      "outputs": [
        {
          "data": {
            "text/html": [
              "<div>\n",
              "<style scoped>\n",
              "    .dataframe tbody tr th:only-of-type {\n",
              "        vertical-align: middle;\n",
              "    }\n",
              "\n",
              "    .dataframe tbody tr th {\n",
              "        vertical-align: top;\n",
              "    }\n",
              "\n",
              "    .dataframe thead th {\n",
              "        text-align: right;\n",
              "    }\n",
              "</style>\n",
              "<table border=\"1\" class=\"dataframe\">\n",
              "  <thead>\n",
              "    <tr style=\"text-align: right;\">\n",
              "      <th></th>\n",
              "      <th>Name</th>\n",
              "      <th>Platform</th>\n",
              "      <th>Year_of_Release</th>\n",
              "      <th>Genre</th>\n",
              "      <th>Publisher</th>\n",
              "      <th>NA_Sales</th>\n",
              "      <th>EU_Sales</th>\n",
              "      <th>JP_Sales</th>\n",
              "      <th>Other_Sales</th>\n",
              "      <th>Global_Sales</th>\n",
              "      <th>Critic_Score</th>\n",
              "      <th>Critic_Count</th>\n",
              "      <th>User_Score</th>\n",
              "      <th>User_Count</th>\n",
              "      <th>Developer</th>\n",
              "      <th>Rating</th>\n",
              "    </tr>\n",
              "  </thead>\n",
              "  <tbody>\n",
              "    <tr>\n",
              "      <th>16714</th>\n",
              "      <td>Samurai Warriors: Sanada Maru</td>\n",
              "      <td>PS3</td>\n",
              "      <td>2016.0</td>\n",
              "      <td>Action</td>\n",
              "      <td>Tecmo Koei</td>\n",
              "      <td>0.00</td>\n",
              "      <td>0.00</td>\n",
              "      <td>0.01</td>\n",
              "      <td>0.0</td>\n",
              "      <td>0.01</td>\n",
              "      <td>NaN</td>\n",
              "      <td>NaN</td>\n",
              "      <td>NaN</td>\n",
              "      <td>NaN</td>\n",
              "      <td>NaN</td>\n",
              "      <td>NaN</td>\n",
              "    </tr>\n",
              "    <tr>\n",
              "      <th>16715</th>\n",
              "      <td>LMA Manager 2007</td>\n",
              "      <td>X360</td>\n",
              "      <td>2006.0</td>\n",
              "      <td>Sports</td>\n",
              "      <td>Codemasters</td>\n",
              "      <td>0.00</td>\n",
              "      <td>0.01</td>\n",
              "      <td>0.00</td>\n",
              "      <td>0.0</td>\n",
              "      <td>0.01</td>\n",
              "      <td>NaN</td>\n",
              "      <td>NaN</td>\n",
              "      <td>NaN</td>\n",
              "      <td>NaN</td>\n",
              "      <td>NaN</td>\n",
              "      <td>NaN</td>\n",
              "    </tr>\n",
              "    <tr>\n",
              "      <th>16716</th>\n",
              "      <td>Haitaka no Psychedelica</td>\n",
              "      <td>PSV</td>\n",
              "      <td>2016.0</td>\n",
              "      <td>Adventure</td>\n",
              "      <td>Idea Factory</td>\n",
              "      <td>0.00</td>\n",
              "      <td>0.00</td>\n",
              "      <td>0.01</td>\n",
              "      <td>0.0</td>\n",
              "      <td>0.01</td>\n",
              "      <td>NaN</td>\n",
              "      <td>NaN</td>\n",
              "      <td>NaN</td>\n",
              "      <td>NaN</td>\n",
              "      <td>NaN</td>\n",
              "      <td>NaN</td>\n",
              "    </tr>\n",
              "    <tr>\n",
              "      <th>16717</th>\n",
              "      <td>Spirits &amp; Spells</td>\n",
              "      <td>GBA</td>\n",
              "      <td>2003.0</td>\n",
              "      <td>Platform</td>\n",
              "      <td>Wanadoo</td>\n",
              "      <td>0.01</td>\n",
              "      <td>0.00</td>\n",
              "      <td>0.00</td>\n",
              "      <td>0.0</td>\n",
              "      <td>0.01</td>\n",
              "      <td>NaN</td>\n",
              "      <td>NaN</td>\n",
              "      <td>NaN</td>\n",
              "      <td>NaN</td>\n",
              "      <td>NaN</td>\n",
              "      <td>NaN</td>\n",
              "    </tr>\n",
              "    <tr>\n",
              "      <th>16718</th>\n",
              "      <td>Winning Post 8 2016</td>\n",
              "      <td>PSV</td>\n",
              "      <td>2016.0</td>\n",
              "      <td>Simulation</td>\n",
              "      <td>Tecmo Koei</td>\n",
              "      <td>0.00</td>\n",
              "      <td>0.00</td>\n",
              "      <td>0.01</td>\n",
              "      <td>0.0</td>\n",
              "      <td>0.01</td>\n",
              "      <td>NaN</td>\n",
              "      <td>NaN</td>\n",
              "      <td>NaN</td>\n",
              "      <td>NaN</td>\n",
              "      <td>NaN</td>\n",
              "      <td>NaN</td>\n",
              "    </tr>\n",
              "  </tbody>\n",
              "</table>\n",
              "</div>"
            ],
            "text/plain": [
              "                                Name Platform  Year_of_Release       Genre  \\\n",
              "16714  Samurai Warriors: Sanada Maru      PS3           2016.0      Action   \n",
              "16715               LMA Manager 2007     X360           2006.0      Sports   \n",
              "16716        Haitaka no Psychedelica      PSV           2016.0   Adventure   \n",
              "16717               Spirits & Spells      GBA           2003.0    Platform   \n",
              "16718            Winning Post 8 2016      PSV           2016.0  Simulation   \n",
              "\n",
              "          Publisher  NA_Sales  EU_Sales  JP_Sales  Other_Sales  Global_Sales  \\\n",
              "16714    Tecmo Koei      0.00      0.00      0.01          0.0          0.01   \n",
              "16715   Codemasters      0.00      0.01      0.00          0.0          0.01   \n",
              "16716  Idea Factory      0.00      0.00      0.01          0.0          0.01   \n",
              "16717       Wanadoo      0.01      0.00      0.00          0.0          0.01   \n",
              "16718    Tecmo Koei      0.00      0.00      0.01          0.0          0.01   \n",
              "\n",
              "       Critic_Score  Critic_Count User_Score  User_Count Developer Rating  \n",
              "16714           NaN           NaN        NaN         NaN       NaN    NaN  \n",
              "16715           NaN           NaN        NaN         NaN       NaN    NaN  \n",
              "16716           NaN           NaN        NaN         NaN       NaN    NaN  \n",
              "16717           NaN           NaN        NaN         NaN       NaN    NaN  \n",
              "16718           NaN           NaN        NaN         NaN       NaN    NaN  "
            ]
          },
          "execution_count": 5,
          "metadata": {},
          "output_type": "execute_result"
        }
      ],
      "source": [
        "# Para visualizar los datos usamos el método head(). Esta función, por defecto, nos mostrará los datos de los primeros\n",
        "# cinco registros del dataset. Si queremos ver más registros debemos indicarle al método el número de registros que\n",
        "# queremos visualizar. E.g. head(8).\n",
        "original_df.tail()"
      ]
    },
    {
      "cell_type": "markdown",
      "metadata": {
        "id": "BCNOCTXxUpbf"
      },
      "source": [
        "Con esta primera visualización podemos notar que las columnas están correctamente nombradas. En el dado caso en que las columnas no tengan los nombres apropiados, estos nombres se pueden asignar usando el atributo *columns*. E.g. *df.columns = [...]*, donde en el arreglo se especifican los nombres por medio de strings (texto) usando comillas dobles (\"\") o comillas simples ('').\n",
        "\n",
        "Ahora, si queremos en algún momento visualizar los últimos elementos del dataset podemos usar el método *tail()*. También podemos visualizar un grupo aleatorio de registros usando el método *sample()* al que le podemos pasar como parámetro un valor *n* que define el tamaño de dicha grupo o muestra aleatoria.\n",
        "\n",
        "Lo siguiente que podemos hacer es visualizar la información de cada una de las columnas."
      ]
    },
    {
      "cell_type": "code",
      "execution_count": 6,
      "metadata": {
        "colab": {
          "base_uri": "https://localhost:8080/"
        },
        "id": "AOqjPRpDUpbf",
        "outputId": "b5789bb6-387c-42f0-d7e5-177dee61b3df"
      },
      "outputs": [
        {
          "data": {
            "text/plain": [
              "(16719, 16)"
            ]
          },
          "execution_count": 6,
          "metadata": {},
          "output_type": "execute_result"
        }
      ],
      "source": [
        "# Usamos el atributo shape para observar el tamaño del dataset.\n",
        "original_df.shape"
      ]
    },
    {
      "cell_type": "markdown",
      "metadata": {
        "id": "ZwEXh7JKUpbg"
      },
      "source": [
        "Esto nos está mostrando que el dataset cuenta con 16719 registros (filas) y 16 columnas. Usando el método *info()* podemos obtener la información de las columnas."
      ]
    },
    {
      "cell_type": "code",
      "execution_count": 7,
      "metadata": {
        "colab": {
          "base_uri": "https://localhost:8080/"
        },
        "id": "dbgFduKaUpbh",
        "outputId": "8cbf509b-56ab-4408-f063-36ec3dc20416"
      },
      "outputs": [
        {
          "name": "stdout",
          "output_type": "stream",
          "text": [
            "<class 'pandas.core.frame.DataFrame'>\n",
            "RangeIndex: 16719 entries, 0 to 16718\n",
            "Data columns (total 16 columns):\n",
            " #   Column           Non-Null Count  Dtype  \n",
            "---  ------           --------------  -----  \n",
            " 0   Name             16717 non-null  object \n",
            " 1   Platform         16719 non-null  object \n",
            " 2   Year_of_Release  16450 non-null  float64\n",
            " 3   Genre            16717 non-null  object \n",
            " 4   Publisher        16665 non-null  object \n",
            " 5   NA_Sales         16719 non-null  float64\n",
            " 6   EU_Sales         16719 non-null  float64\n",
            " 7   JP_Sales         16719 non-null  float64\n",
            " 8   Other_Sales      16719 non-null  float64\n",
            " 9   Global_Sales     16719 non-null  float64\n",
            " 10  Critic_Score     8137 non-null   float64\n",
            " 11  Critic_Count     8137 non-null   float64\n",
            " 12  User_Score       10015 non-null  object \n",
            " 13  User_Count       7590 non-null   float64\n",
            " 14  Developer        10096 non-null  object \n",
            " 15  Rating           9950 non-null   object \n",
            "dtypes: float64(9), object(7)\n",
            "memory usage: 2.0+ MB\n"
          ]
        }
      ],
      "source": [
        "# Usamos el método info() para obtener información de las columnas del dataset.\n",
        "original_df.info()"
      ]
    },
    {
      "cell_type": "markdown",
      "metadata": {
        "id": "AyEkWdwpUpbh"
      },
      "source": [
        "Al verificar esta información podemos comenzar a detectar los primeros problemas. Anteriormente habíamos dicho que el número total de registros era de 16719, pero aquí vemos que para algunas columnas los registros no están completos. Eso quiere decir que en cada una de esas columnas hay valores nulos. También es raro que la columna *User_Score* sea de tipo *object*, pues debería tener un tipo numérico por representar un puntaje.\n",
        "\n",
        "Otra forma de obtener información valiosa de los datos de cada columna es utilizar el método *describe()*. Este método nos provee información estadística de los datos de cada columna como la media, la desviación estándar, cuartiles, etc, mismos que nos pueden mostrar el comportamiento de sus respectivos datos. Se debe tener en cuenta que este método actúa por defecto sobre las columnas de tipo númerico."
      ]
    },
    {
      "cell_type": "code",
      "execution_count": 10,
      "metadata": {
        "colab": {
          "base_uri": "https://localhost:8080/",
          "height": 332
        },
        "id": "KBpAwk7IUpbi",
        "outputId": "5e5a5d76-7423-48e9-b7dd-e327d3dce9c7"
      },
      "outputs": [
        {
          "data": {
            "text/html": [
              "<div>\n",
              "<style scoped>\n",
              "    .dataframe tbody tr th:only-of-type {\n",
              "        vertical-align: middle;\n",
              "    }\n",
              "\n",
              "    .dataframe tbody tr th {\n",
              "        vertical-align: top;\n",
              "    }\n",
              "\n",
              "    .dataframe thead th {\n",
              "        text-align: right;\n",
              "    }\n",
              "</style>\n",
              "<table border=\"1\" class=\"dataframe\">\n",
              "  <thead>\n",
              "    <tr style=\"text-align: right;\">\n",
              "      <th></th>\n",
              "      <th>count</th>\n",
              "      <th>mean</th>\n",
              "      <th>std</th>\n",
              "      <th>min</th>\n",
              "      <th>25%</th>\n",
              "      <th>50%</th>\n",
              "      <th>75%</th>\n",
              "      <th>max</th>\n",
              "    </tr>\n",
              "  </thead>\n",
              "  <tbody>\n",
              "    <tr>\n",
              "      <th>Year_of_Release</th>\n",
              "      <td>16450.0</td>\n",
              "      <td>2006.487356</td>\n",
              "      <td>5.878995</td>\n",
              "      <td>1980.00</td>\n",
              "      <td>2003.00</td>\n",
              "      <td>2007.00</td>\n",
              "      <td>2010.00</td>\n",
              "      <td>2020.00</td>\n",
              "    </tr>\n",
              "    <tr>\n",
              "      <th>NA_Sales</th>\n",
              "      <td>16719.0</td>\n",
              "      <td>0.263330</td>\n",
              "      <td>0.813514</td>\n",
              "      <td>0.00</td>\n",
              "      <td>0.00</td>\n",
              "      <td>0.08</td>\n",
              "      <td>0.24</td>\n",
              "      <td>41.36</td>\n",
              "    </tr>\n",
              "    <tr>\n",
              "      <th>EU_Sales</th>\n",
              "      <td>16719.0</td>\n",
              "      <td>0.145025</td>\n",
              "      <td>0.503283</td>\n",
              "      <td>0.00</td>\n",
              "      <td>0.00</td>\n",
              "      <td>0.02</td>\n",
              "      <td>0.11</td>\n",
              "      <td>28.96</td>\n",
              "    </tr>\n",
              "    <tr>\n",
              "      <th>JP_Sales</th>\n",
              "      <td>16719.0</td>\n",
              "      <td>0.077602</td>\n",
              "      <td>0.308818</td>\n",
              "      <td>0.00</td>\n",
              "      <td>0.00</td>\n",
              "      <td>0.00</td>\n",
              "      <td>0.04</td>\n",
              "      <td>10.22</td>\n",
              "    </tr>\n",
              "    <tr>\n",
              "      <th>Other_Sales</th>\n",
              "      <td>16719.0</td>\n",
              "      <td>0.047332</td>\n",
              "      <td>0.186710</td>\n",
              "      <td>0.00</td>\n",
              "      <td>0.00</td>\n",
              "      <td>0.01</td>\n",
              "      <td>0.03</td>\n",
              "      <td>10.57</td>\n",
              "    </tr>\n",
              "    <tr>\n",
              "      <th>Global_Sales</th>\n",
              "      <td>16719.0</td>\n",
              "      <td>0.533543</td>\n",
              "      <td>1.547935</td>\n",
              "      <td>0.01</td>\n",
              "      <td>0.06</td>\n",
              "      <td>0.17</td>\n",
              "      <td>0.47</td>\n",
              "      <td>82.53</td>\n",
              "    </tr>\n",
              "    <tr>\n",
              "      <th>Critic_Score</th>\n",
              "      <td>8137.0</td>\n",
              "      <td>68.967679</td>\n",
              "      <td>13.938165</td>\n",
              "      <td>13.00</td>\n",
              "      <td>60.00</td>\n",
              "      <td>71.00</td>\n",
              "      <td>79.00</td>\n",
              "      <td>98.00</td>\n",
              "    </tr>\n",
              "    <tr>\n",
              "      <th>Critic_Count</th>\n",
              "      <td>8137.0</td>\n",
              "      <td>26.360821</td>\n",
              "      <td>18.980495</td>\n",
              "      <td>3.00</td>\n",
              "      <td>12.00</td>\n",
              "      <td>21.00</td>\n",
              "      <td>36.00</td>\n",
              "      <td>113.00</td>\n",
              "    </tr>\n",
              "    <tr>\n",
              "      <th>User_Count</th>\n",
              "      <td>7590.0</td>\n",
              "      <td>162.229908</td>\n",
              "      <td>561.282326</td>\n",
              "      <td>4.00</td>\n",
              "      <td>10.00</td>\n",
              "      <td>24.00</td>\n",
              "      <td>81.00</td>\n",
              "      <td>10665.00</td>\n",
              "    </tr>\n",
              "  </tbody>\n",
              "</table>\n",
              "</div>"
            ],
            "text/plain": [
              "                   count         mean         std      min      25%      50%  \\\n",
              "Year_of_Release  16450.0  2006.487356    5.878995  1980.00  2003.00  2007.00   \n",
              "NA_Sales         16719.0     0.263330    0.813514     0.00     0.00     0.08   \n",
              "EU_Sales         16719.0     0.145025    0.503283     0.00     0.00     0.02   \n",
              "JP_Sales         16719.0     0.077602    0.308818     0.00     0.00     0.00   \n",
              "Other_Sales      16719.0     0.047332    0.186710     0.00     0.00     0.01   \n",
              "Global_Sales     16719.0     0.533543    1.547935     0.01     0.06     0.17   \n",
              "Critic_Score      8137.0    68.967679   13.938165    13.00    60.00    71.00   \n",
              "Critic_Count      8137.0    26.360821   18.980495     3.00    12.00    21.00   \n",
              "User_Count        7590.0   162.229908  561.282326     4.00    10.00    24.00   \n",
              "\n",
              "                     75%       max  \n",
              "Year_of_Release  2010.00   2020.00  \n",
              "NA_Sales            0.24     41.36  \n",
              "EU_Sales            0.11     28.96  \n",
              "JP_Sales            0.04     10.22  \n",
              "Other_Sales         0.03     10.57  \n",
              "Global_Sales        0.47     82.53  \n",
              "Critic_Score       79.00     98.00  \n",
              "Critic_Count       36.00    113.00  \n",
              "User_Count         81.00  10665.00  "
            ]
          },
          "execution_count": 10,
          "metadata": {},
          "output_type": "execute_result"
        }
      ],
      "source": [
        "# Usamos el método descibre para obtener datos estadísticos de las columnas de tipo numérico.\n",
        "original_df.describe().T"
      ]
    },
    {
      "cell_type": "markdown",
      "metadata": {
        "id": "nwBKSlnPUpbi"
      },
      "source": [
        "El método *describe()* nos está mostrando información interesante. Por ejemplo en la columna *User_Count* podemos ver los valores 10.00, 24.00 y 81.00 para los cuartiles 25%, 50% y 75% respectivamente. Pero también nos está mostrando un valor de 10665.00 para el valor máximo, lo que parece indicar un valor atípico.\n",
        "\n",
        "Para verificar este comportamiento podemos utilizar una gráfica de cajas y bigotes sobre la columna *User_Count*."
      ]
    },
    {
      "cell_type": "code",
      "execution_count": 12,
      "metadata": {
        "colab": {
          "base_uri": "https://localhost:8080/",
          "height": 430
        },
        "id": "nCecDFpcUpbi",
        "outputId": "a9200f56-0ab8-4bb9-f465-a43b6451c2ce"
      },
      "outputs": [
        {
          "data": {
            "image/png": "[encoded data removed]",
            "text/plain": [
              "<Figure size 640x480 with 1 Axes>"
            ]
          },
          "metadata": {},
          "output_type": "display_data"
        }
      ],
      "source": [
        "# Obtenemos la columna, la guardamos en una variable y con el método dropna() quitamos los valores nulos\n",
        "# para que al dibujar la gráfica de cajas y bigotes no nos dé ningún problema.\n",
        "user_count = original_df['User_Count'].dropna() # .dropna() se usa para eliminar los valores nulos.\n",
        "\n",
        "# Dibujamos la gráfica de cajas y bigotes.\n",
        "plt.boxplot([user_count])\n",
        "plt.show()"
      ]
    },
    {
      "cell_type": "markdown",
      "metadata": {
        "id": "Lt6axQIxUpbj"
      },
      "source": [
        "La gráfica nos muestra que efectivamente hay valores atípicos bastante importantes denominados outliers. Estos outliers pueden llegar a afectar mucho la estadística por lo que en algún punto toca reemplazarlos.\n",
        "\n",
        "Por otro lado, también es posible ver información de las columnas de tipo categórico utilizando el método *describe()*."
      ]
    },
    {
      "cell_type": "code",
      "execution_count": 16,
      "metadata": {
        "colab": {
          "base_uri": "https://localhost:8080/",
          "height": 269
        },
        "id": "0EuQWOC2Upbj",
        "outputId": "c4a971bd-d0b8-4871-ddd0-b64e76d10976"
      },
      "outputs": [
        {
          "data": {
            "text/html": [
              "<div>\n",
              "<style scoped>\n",
              "    .dataframe tbody tr th:only-of-type {\n",
              "        vertical-align: middle;\n",
              "    }\n",
              "\n",
              "    .dataframe tbody tr th {\n",
              "        vertical-align: top;\n",
              "    }\n",
              "\n",
              "    .dataframe thead th {\n",
              "        text-align: right;\n",
              "    }\n",
              "</style>\n",
              "<table border=\"1\" class=\"dataframe\">\n",
              "  <thead>\n",
              "    <tr style=\"text-align: right;\">\n",
              "      <th></th>\n",
              "      <th>count</th>\n",
              "      <th>unique</th>\n",
              "      <th>top</th>\n",
              "      <th>freq</th>\n",
              "    </tr>\n",
              "  </thead>\n",
              "  <tbody>\n",
              "    <tr>\n",
              "      <th>Name</th>\n",
              "      <td>16717</td>\n",
              "      <td>11562</td>\n",
              "      <td>Need for Speed: Most Wanted</td>\n",
              "      <td>12</td>\n",
              "    </tr>\n",
              "    <tr>\n",
              "      <th>Platform</th>\n",
              "      <td>16719</td>\n",
              "      <td>31</td>\n",
              "      <td>PS2</td>\n",
              "      <td>2161</td>\n",
              "    </tr>\n",
              "    <tr>\n",
              "      <th>Genre</th>\n",
              "      <td>16717</td>\n",
              "      <td>12</td>\n",
              "      <td>Action</td>\n",
              "      <td>3370</td>\n",
              "    </tr>\n",
              "    <tr>\n",
              "      <th>Publisher</th>\n",
              "      <td>16665</td>\n",
              "      <td>581</td>\n",
              "      <td>Electronic Arts</td>\n",
              "      <td>1356</td>\n",
              "    </tr>\n",
              "    <tr>\n",
              "      <th>User_Score</th>\n",
              "      <td>10015</td>\n",
              "      <td>96</td>\n",
              "      <td>tbd</td>\n",
              "      <td>2425</td>\n",
              "    </tr>\n",
              "    <tr>\n",
              "      <th>Developer</th>\n",
              "      <td>10096</td>\n",
              "      <td>1696</td>\n",
              "      <td>Ubisoft</td>\n",
              "      <td>204</td>\n",
              "    </tr>\n",
              "    <tr>\n",
              "      <th>Rating</th>\n",
              "      <td>9950</td>\n",
              "      <td>8</td>\n",
              "      <td>E</td>\n",
              "      <td>3991</td>\n",
              "    </tr>\n",
              "  </tbody>\n",
              "</table>\n",
              "</div>"
            ],
            "text/plain": [
              "            count unique                          top  freq\n",
              "Name        16717  11562  Need for Speed: Most Wanted    12\n",
              "Platform    16719     31                          PS2  2161\n",
              "Genre       16717     12                       Action  3370\n",
              "Publisher   16665    581              Electronic Arts  1356\n",
              "User_Score  10015     96                          tbd  2425\n",
              "Developer   10096   1696                      Ubisoft   204\n",
              "Rating       9950      8                            E  3991"
            ]
          },
          "execution_count": 16,
          "metadata": {},
          "output_type": "execute_result"
        }
      ],
      "source": [
        "# Si usamos el método describe() con el parámetros include='0' podemos ver información adicional de las columnas\n",
        "# que tienen valores categóricos.\n",
        "original_df.describe(include='O').T\n",
        "\n",
        "# top es la moda de la columna\n",
        "# freq es la frecuencia de la moda"
      ]
    },
    {
      "cell_type": "markdown",
      "metadata": {
        "id": "MrBdSn8SUpbj"
      },
      "source": [
        "Aquí obtenemos información como el conteo total de registros para cada columna (no se cuentan los valores nulos), el conteo de valores únicos para cada columna, el valor que más aparece para cada columna, etc. Viendo la tabla podemos identificar otro problema: la columna *User_Score* posee valores no númericos como *tbd*. Esto es lo que está convirtiendo la columna en tipo *object*.\n",
        "\n",
        "Algo interesante a destacar es que si se hace una investigación sobre el **Rating ESRB**, este sólo contiene seis categorías (E, E10+, T, M, AO y RP) y aquí se nos está mostrando que hay ocho valores únicos para la columna *Rating*. Verifiquemos cuáles son dichos valores únicos."
      ]
    },
    {
      "cell_type": "code",
      "execution_count": 17,
      "metadata": {
        "colab": {
          "base_uri": "https://localhost:8080/"
        },
        "id": "Pl7OY9u8Upbk",
        "outputId": "3e68ffd6-b0a1-4cd4-f2e3-1fa178d92617"
      },
      "outputs": [
        {
          "data": {
            "text/plain": [
              "array(['E', nan, 'M', 'T', 'E10+', 'K-A', 'AO', 'EC', 'RP'], dtype=object)"
            ]
          },
          "execution_count": 17,
          "metadata": {},
          "output_type": "execute_result"
        }
      ],
      "source": [
        "# Usamos el método unique() sobre la columna deseada para verificar cúales son los valores únicos.\n",
        "original_df['Rating'].unique()"
      ]
    },
    {
      "cell_type": "markdown",
      "metadata": {
        "id": "DCNLhvZkUpbk"
      },
      "source": [
        "En este punto podemos observar que además de las categorías antes mencionadas hay una categoría adicional denominada *K-A*. Resulta que esta categoría fue reemplazada en 1998 por la categoría *E*, es decir *K-A* ya no está vigente."
      ]
    },
    {
      "cell_type": "markdown",
      "metadata": {
        "id": "lPG3yKN7Upbk"
      },
      "source": [
        "#### Resultados del análisis exploratorio\n",
        "\n",
        "Los siguientes son los resultados que pudimos obtener a partir del análisis exploratorio que realizamos sobre el dataset:\n",
        "* Presencia de valores nulos en varias columnas.\n",
        "* La columna *User_Score* contiene elementos string que la transforman en un tipo object (categórico). Esta columna debería ser de tipo numérico.\n",
        "* Presencia de valores atípicos (E.g. columna *User_Count*).\n",
        "* La columna *Rating* contiene un valor que ya no se encuentra vigente en el Rating ESRB.\n"
      ]
    },
    {
      "cell_type": "markdown",
      "metadata": {
        "id": "wGQh0M3FUpbl"
      },
      "source": [
        "### Con los anteriores resultados ya podemos comenzar a hacer la limpieza de datos\n",
        "\n",
        "#### Valores nulos\n",
        "Comencemos tratando de solucionar el tema de los valores nulos. Muchas veces al querer solucionar este problema, la primera acción que nos sentimos tentados de realizar es borrar todos aquellos registros que tengan valores nulos y no siempre esa es la mejor solución. Primero se debería tratar de hacer un análisis de esos valores. Echemos un vistazo al número de valores nulos que tenemos por columna."
      ]
    },
    {
      "cell_type": "code",
      "execution_count": 18,
      "metadata": {
        "colab": {
          "base_uri": "https://localhost:8080/"
        },
        "id": "NLQw9O2LUpbl",
        "outputId": "e8a8bad9-0df2-4533-e0e4-7db7ca67d581"
      },
      "outputs": [
        {
          "data": {
            "text/plain": [
              "Name                  2\n",
              "Platform              0\n",
              "Year_of_Release     269\n",
              "Genre                 2\n",
              "Publisher            54\n",
              "NA_Sales              0\n",
              "EU_Sales              0\n",
              "JP_Sales              0\n",
              "Other_Sales           0\n",
              "Global_Sales          0\n",
              "Critic_Score       8582\n",
              "Critic_Count       8582\n",
              "User_Score         6704\n",
              "User_Count         9129\n",
              "Developer          6623\n",
              "Rating             6769\n",
              "dtype: int64"
            ]
          },
          "execution_count": 18,
          "metadata": {},
          "output_type": "execute_result"
        }
      ],
      "source": [
        "# Verificamos el total de valores nulos en cada columna.\n",
        "original_df.isna().sum()"
      ]
    },
    {
      "cell_type": "markdown",
      "metadata": {
        "id": "QjpKvBSDUpbl"
      },
      "source": [
        "Viendo estos datos hay varias cosas a tener en cuenta:\n",
        "1. Existen dos registros cuyo nombre del videojuego no existen. No tiene sentido conservarlos pues no sabemos de que videjuegos se tratan. Esos dos registros se pueden borrar.\n",
        "2. El año de publicación y el nombre de los editores son dos temas complejos que podríamos dejar para el final de esta parte de los nulos.\n",
        "3. Para las columnas *Critic_Score*, *Critic_Count* podemos usar estrategias para reemplazar los valores nulos, por ejemplo reemplazar por la media, por la moda o por la mediana.\n",
        "4. Para la columna *User_Score* debemos atender primero el problema del error de tipo.\n",
        "5. Para la columna *User_Count* podemos aplicar las mismas estrategias del punto 3, pero antes debemos ver el problema de los datos atípicos.\n",
        "6. Para el caso del nombre del desarrollador, por ser una columna cuyos valores son categóricos, se podría pensar en reemplazar por la moda, pero esto no sería tan apropiado como pensamos.\n",
        "7. Para el caso del rating podríamos reemplazar por la moda, pero antes debemos corregir el tema del valor que ya no está vigente y reemplazarlo.\n",
        "\n",
        "Comencemos pues eliminando los dos registros que no tienen un valor para el nombre del videojuego."
      ]
    },
    {
      "cell_type": "code",
      "execution_count": 19,
      "metadata": {
        "colab": {
          "base_uri": "https://localhost:8080/"
        },
        "id": "L737qO1_Upbl",
        "outputId": "5aaa4190-a780-442b-f6a2-5bdf93669f5e"
      },
      "outputs": [
        {
          "data": {
            "text/plain": [
              "Name                  0\n",
              "Platform              0\n",
              "Year_of_Release     269\n",
              "Genre                 0\n",
              "Publisher            54\n",
              "NA_Sales              0\n",
              "EU_Sales              0\n",
              "JP_Sales              0\n",
              "Other_Sales           0\n",
              "Global_Sales          0\n",
              "Critic_Score       8580\n",
              "Critic_Count       8580\n",
              "User_Score         6702\n",
              "User_Count         9127\n",
              "Developer          6621\n",
              "Rating             6767\n",
              "dtype: int64"
            ]
          },
          "execution_count": 19,
          "metadata": {},
          "output_type": "execute_result"
        }
      ],
      "source": [
        "# Creamos una copia del dataframe original usando el método copy(). Esto lo hacemos porque más adelante podríamos necesitar\n",
        "# los datos originales para realizar alguna tarea.\n",
        "df_toclean = original_df.copy() # Limpiaremos los datos usando el dataframe df_toclean.\n",
        "\n",
        "# Utilizamos el método notnull() que nos permite hacer un filtro de todos aquellos registros que no tengan un valor nulo\n",
        "# para una columna en específico. Reasignamos el valor de df con el resultado del filtro.\n",
        "df_toclean = df_toclean[df_toclean['Name'].notnull()]\n",
        "\n",
        "df_toclean = df_toclean.reset_index() # Es sumamente importante resetear el índice de los datos.\n",
        "df_toclean.drop('index', axis=1, inplace=True)\n",
        "\n",
        "\n",
        "# Creamos una copia a partir de df_toclean. Esta copia la usaremos a modo de backup para guardar algunos avances (distintos\n",
        "# a la imputación de valores nulos en columnas númericas) que nos conviene tener para más adelante.\n",
        "df_aux = df_toclean.copy()\n",
        "\n",
        "# Verificamos nuevamente el número de nulos.\n",
        "df_toclean.isna().sum()"
      ]
    },
    {
      "cell_type": "markdown",
      "metadata": {
        "id": "IkWzSzG1Upbm"
      },
      "source": [
        "Confirmamos que ya no tenemos registros con valores nulos para el nombre del videojuego. Además nos damos cuenta que dichos registros también eran los que tenían valores nulos en el género pues dichos nulos han desaparecido.\n",
        "\n",
        "Pasemos al caso de las columnas *Critic_Score* y *Critic_Count*. Estas columnas no tienen valores atípicos importantes por lo que podemos proceder realizando alguna estrategia de imputación (reemplazar por media, mediana o moda). Veamos algunas reglas y sugerencias:\n",
        "* La **media** o promedio es un punto de equilibrio o centro de masas del conjunto de datos. Su cálculo se hace haciendo la sumatoria de los datos y diviendo el resultado entre el número total de datos del conjunto. Esta métrica se comporta muy bien cuando los datos son homogéneos, es decir, tienen una distribución normal.\n",
        "* La **mediana** es un valor que deja por debajo de sí a la mitad de los datos y por encima de sí a la otra mitad (los datos deben estar ordenados). Funciona mucho mejor que la media si los datos son heterogéneos, es decir no tienen una distribución normal.\n",
        "* La **moda** es el dato que más se repite en un conjunto de datos. Se recomienda usar en conjuntos de datos de tipo categórico.\n",
        "* En un conjunto de datos con distribución normal se puede utilizar cualquiera de las tres métricas para hacer imputación.\n",
        "\n",
        "Veamos entonces cómo están distribuidos los datos en estas dos columnas."
      ]
    },
    {
      "cell_type": "code",
      "execution_count": 20,
      "metadata": {
        "colab": {
          "base_uri": "https://localhost:8080/",
          "height": 433
        },
        "id": "2RwcwOe-Upbm",
        "outputId": "a9e6cb59-a5bf-41f3-a6b9-dbca8ef31cba"
      },
      "outputs": [
        {
          "data": {
            "image/png": "[encoded data removed]",
            "text/plain": [
              "<Figure size 640x480 with 1 Axes>"
            ]
          },
          "metadata": {},
          "output_type": "display_data"
        }
      ],
      "source": [
        "# Obtenemos la columna, la guardamos en una variable y con el método dropna() quitamos los valores nulos\n",
        "# para que al dibujar la gráfica de histograma no nos dé ningún problema.\n",
        "critic_score = df_toclean['Critic_Score'].dropna()\n",
        "\n",
        "# Usamos la gráfica de histograma para ver la distribución de los datos.\n",
        "plt.hist(critic_score)\n",
        "plt.show()"
      ]
    },
    {
      "cell_type": "code",
      "execution_count": 21,
      "metadata": {
        "colab": {
          "base_uri": "https://localhost:8080/",
          "height": 430
        },
        "id": "xhyRgVukUpbn",
        "outputId": "464f0c59-d3d3-470e-a79b-74e6c68edf61"
      },
      "outputs": [
        {
          "data": {
            "image/png": "[encoded data removed]",
            "text/plain": [
              "<Figure size 640x480 with 1 Axes>"
            ]
          },
          "metadata": {},
          "output_type": "display_data"
        }
      ],
      "source": [
        "# Obtenemos la columna, la guardamos en una variable y con el método dropna() quitamos los valores nulos\n",
        "# para que al dibujar la gráfica de histograma no nos dé ningún problema.\n",
        "critic_count = df_toclean['Critic_Count'].dropna()\n",
        "\n",
        "# Usamos la gráfica de histograma para ver la distribución de los datos.\n",
        "plt.hist(critic_count)\n",
        "plt.show()"
      ]
    },
    {
      "cell_type": "markdown",
      "metadata": {
        "id": "UGLFqlq7Upbn"
      },
      "source": [
        "Estas gráficas nos indican que para las columnas *Critic_Score* y *Critic_Count* la distribución de sus datos no parece ser homogénea por lo que es conveniente utilizar la mediana como estrategia de imputación de sus valores nulos."
      ]
    },
    {
      "cell_type": "code",
      "execution_count": 24,
      "metadata": {
        "colab": {
          "base_uri": "https://localhost:8080/"
        },
        "id": "0ziADHGvUpbn",
        "outputId": "3747e018-ba2f-4832-f6b8-c96d96bf192e"
      },
      "outputs": [
        {
          "data": {
            "text/plain": [
              "Name                  0\n",
              "Platform              0\n",
              "Year_of_Release     269\n",
              "Genre                 0\n",
              "Publisher            54\n",
              "NA_Sales              0\n",
              "EU_Sales              0\n",
              "JP_Sales              0\n",
              "Other_Sales           0\n",
              "Global_Sales          0\n",
              "Critic_Score          0\n",
              "Critic_Count          0\n",
              "User_Score         6702\n",
              "User_Count         9127\n",
              "Developer          6621\n",
              "Rating             6767\n",
              "dtype: int64"
            ]
          },
          "execution_count": 24,
          "metadata": {},
          "output_type": "execute_result"
        }
      ],
      "source": [
        "# Usamos el método median() para obtener la mediana de los valores de cada columna.\n",
        "cs_median = critic_score.median()\n",
        "cc_median = critic_count.median()\n",
        "\n",
        "# Con el método fillna() reemplazamos los valores nulos de cada columna por la mediana.\n",
        "df_toclean.fillna({ 'Critic_Score': cs_median }, inplace=True)\n",
        "df_toclean.fillna({ 'Critic_Count': cc_median }, inplace=True)\n",
        "\n",
        "# Verificamos el número total de valores nulos de cada columna del dataset.\n",
        "df_toclean.isna().sum()"
      ]
    },
    {
      "cell_type": "markdown",
      "metadata": {
        "id": "6eH-HAkmUpbo"
      },
      "source": [
        "Por el momento esto es lo único que podemos hacer con respecto a los valores nulos pues para resolver el caso de las demás columnas debemos atender antes otros problemas.\n",
        "\n",
        "#### Error de tipos en la columna *User_Score*\n",
        "Atendamos entonces el caso de la columna *User_Score* que contiene elementos string cuando esta columna debería ser de tipo númerico. Verifiquemos cuáles son los valores únicos que contiene esta columna."
      ]
    },
    {
      "cell_type": "code",
      "execution_count": 25,
      "metadata": {
        "colab": {
          "base_uri": "https://localhost:8080/"
        },
        "id": "QK9G_qquUpbo",
        "outputId": "a8fbf45a-0a24-4848-edf1-615d4663837b"
      },
      "outputs": [
        {
          "data": {
            "text/plain": [
              "array(['8', nan, '8.3', '8.5', '6.6', '8.4', '8.6', '7.7', '6.3', '7.4',\n",
              "       '8.2', '9', '7.9', '8.1', '8.7', '7.1', '3.4', '5.3', '4.8', '3.2',\n",
              "       '8.9', '6.4', '7.8', '7.5', '2.6', '7.2', '9.2', '7', '7.3', '4.3',\n",
              "       '7.6', '5.7', '5', '9.1', '6.5', 'tbd', '8.8', '6.9', '9.4', '6.8',\n",
              "       '6.1', '6.7', '5.4', '4', '4.9', '4.5', '9.3', '6.2', '4.2', '6',\n",
              "       '3.7', '4.1', '5.8', '5.6', '5.5', '4.4', '4.6', '5.9', '3.9',\n",
              "       '3.1', '2.9', '5.2', '3.3', '4.7', '5.1', '3.5', '2.5', '1.9', '3',\n",
              "       '2.7', '2.2', '2', '9.5', '2.1', '3.6', '2.8', '1.8', '3.8', '0',\n",
              "       '1.6', '9.6', '2.4', '1.7', '1.1', '0.3', '1.5', '0.7', '1.2',\n",
              "       '2.3', '0.5', '1.3', '0.2', '0.6', '1.4', '0.9', '1', '9.7'],\n",
              "      dtype=object)"
            ]
          },
          "execution_count": 25,
          "metadata": {},
          "output_type": "execute_result"
        }
      ],
      "source": [
        "# Usamos el método unique() para ver los valores únicos en la columna.\n",
        "df_toclean['User_Score'].unique()"
      ]
    },
    {
      "cell_type": "markdown",
      "metadata": {
        "id": "52aqiZgoUpbo"
      },
      "source": [
        "Como se puede ver tenemos un valor que no representa ningún dato númerico, *tbd*. Para solventar esta situación vamos a transformar los valores de esta columna a tipo float usando el método *to_numeric()*, indicando que aquellos valores string que no se puedan parsear a un tipo númerico tomen el valor nulo."
      ]
    },
    {
      "cell_type": "code",
      "execution_count": 26,
      "metadata": {
        "colab": {
          "base_uri": "https://localhost:8080/"
        },
        "id": "DPfYqhDbUpbo",
        "outputId": "99ba7c41-28d5-4c66-951b-f1951c0c3e02"
      },
      "outputs": [
        {
          "name": "stdout",
          "output_type": "stream",
          "text": [
            "<class 'pandas.core.frame.DataFrame'>\n",
            "RangeIndex: 16717 entries, 0 to 16716\n",
            "Data columns (total 16 columns):\n",
            " #   Column           Non-Null Count  Dtype  \n",
            "---  ------           --------------  -----  \n",
            " 0   Name             16717 non-null  object \n",
            " 1   Platform         16717 non-null  object \n",
            " 2   Year_of_Release  16448 non-null  float64\n",
            " 3   Genre            16717 non-null  object \n",
            " 4   Publisher        16663 non-null  object \n",
            " 5   NA_Sales         16717 non-null  float64\n",
            " 6   EU_Sales         16717 non-null  float64\n",
            " 7   JP_Sales         16717 non-null  float64\n",
            " 8   Other_Sales      16717 non-null  float64\n",
            " 9   Global_Sales     16717 non-null  float64\n",
            " 10  Critic_Score     16717 non-null  float64\n",
            " 11  Critic_Count     16717 non-null  float64\n",
            " 12  User_Score       7590 non-null   float64\n",
            " 13  User_Count       7590 non-null   float64\n",
            " 14  Developer        10096 non-null  object \n",
            " 15  Rating           9950 non-null   object \n",
            "dtypes: float64(10), object(6)\n",
            "memory usage: 2.0+ MB\n"
          ]
        }
      ],
      "source": [
        "# Usamos el método de pandas to_numeric() para transformar los datos de una columna a valores numéricos\n",
        "# El parámetro errors='coerce' indica que los valores que no puedan ser parseado tomen el valor nulo.\n",
        "df_toclean['User_Score'] = pd.to_numeric(df_toclean['User_Score'], errors='coerce')\n",
        "\n",
        "# Usamos de nuevo info para verificar el cambio.\n",
        "df_toclean.info()"
      ]
    },
    {
      "cell_type": "markdown",
      "metadata": {
        "id": "EoVZH_kPUpbp"
      },
      "source": [
        "Efectivamente la columna *User_Score* ahora es de tipo float y como se puede ver el número de valores nulos ha aumentado con respecto a la última verificación hecha con el método *info()*, lo que indica que la transformación se ha hecho de manera correcta. Algo que podemos hacer en este punto es verificar, mediante un gráfico de cajas y bigotes, si para la columna *User_Score* existen datos atípicos."
      ]
    },
    {
      "cell_type": "code",
      "execution_count": 27,
      "metadata": {
        "colab": {
          "base_uri": "https://localhost:8080/",
          "height": 430
        },
        "id": "t1cH3ZbYUpbp",
        "outputId": "9f468c61-6fdd-4646-c9da-09a60e5872dc"
      },
      "outputs": [
        {
          "data": {
            "image/png": "[encoded data removed]",
            "text/plain": [
              "<Figure size 640x480 with 1 Axes>"
            ]
          },
          "metadata": {},
          "output_type": "display_data"
        }
      ],
      "source": [
        "# Guardamos el avance de haber transformado el tipo de dato de la columna de manera correcta.\n",
        "df_aux['User_Score'] = df_toclean['User_Score']\n",
        "\n",
        "# Obtenemos la columna, la guardamos en una variable y con el método dropna() quitamos los valores nulos\n",
        "# para que al dibujar la gráfica de cajas y bigotes no nos dé ningún problema.\n",
        "user_score = df_toclean['User_Score'].dropna()\n",
        "\n",
        "# Dibujamos la gráfica de cajas y bigotes.\n",
        "plt.boxplot([user_score])\n",
        "plt.show()"
      ]
    },
    {
      "cell_type": "markdown",
      "metadata": {
        "id": "7RtEsbpEUpbp"
      },
      "source": [
        "En la gráfica podemos identificar algunos datos atípicos que no son muy relevantes pues no son outliers ya que se encuentran en cercanías al valor mínimo representado por el bigote inferior. Esto quiere decir que esta columna esta ya lista para reemplazar su valores nulos usando alguna estrategia de imputación."
      ]
    },
    {
      "cell_type": "markdown",
      "metadata": {
        "id": "53LvTf-FUpbq"
      },
      "source": [
        "#### Valores atípicos en la columna *User_Count*\n",
        "\n",
        "Sabemos que en la columna *User_Count* hay una gran cantidad de outliers que debemos limpiar para no afectar en gran medida las estadísticas del dataset para futuros procesos sobre los datos. La estrategia que podemos seguir es calcular los outliers y reemplazarlos por valores nulos que luego limpiaremos.\n",
        "\n",
        "Para calcular los outliers primero debemos calcular los cuartiles, el rango intercuartil y los valores de los bigotes (estos bigotes se refieren a la gráfica de cajas y bigotes) correspondientes a los datos de esta columna."
      ]
    },
    {
      "cell_type": "code",
      "execution_count": 28,
      "metadata": {
        "colab": {
          "base_uri": "https://localhost:8080/",
          "height": 430
        },
        "id": "zCsgfL9GUB8I",
        "outputId": "d375be64-3ad7-4d56-dd65-67ac01d0ecde"
      },
      "outputs": [
        {
          "data": {
            "image/png": "[encoded data removed]",
            "text/plain": [
              "<Figure size 640x480 with 1 Axes>"
            ]
          },
          "metadata": {},
          "output_type": "display_data"
        }
      ],
      "source": [
        "# Guardamos el avance de haber transformado el tipo de dato de la columna de manera correcta.\n",
        "df_aux['User_Count'] = df_toclean['User_Count']\n",
        "\n",
        "# Obtenemos la columna, la guardamos en una variable y con el método dropna() quitamos los valores nulos\n",
        "# para que al dibujar la gráfica de cajas y bigotes no nos dé ningún problema.\n",
        "user_count = df_toclean['User_Count'].dropna()\n",
        "\n",
        "# Dibujamos la gráfica de cajas y bigotes.\n",
        "plt.boxplot([user_count])\n",
        "plt.show()"
      ]
    },
    {
      "cell_type": "code",
      "execution_count": 30,
      "metadata": {
        "colab": {
          "base_uri": "https://localhost:8080/"
        },
        "id": "bBwwBkjuUpbq",
        "outputId": "d80880ec-4bb0-49d5-c427-894b4496696c"
      },
      "outputs": [
        {
          "name": "stdout",
          "output_type": "stream",
          "text": [
            "10.0\n",
            "81.0\n",
            "Primer cuartil:  10.0\n",
            "Tercer cuartil:  81.0\n",
            "Rango intercuartil:  71.0\n",
            "Bigote inferior:  -96.5\n",
            "Bigote superior:  187.5\n"
          ]
        }
      ],
      "source": [
        "# Usamos el método quantile() para obtener los cuartiles 1 (25%) y 3 (75%)\n",
        "uc_q1 = df_toclean['User_Count'].quantile(0.25)\n",
        "uc_q3 = df_toclean['User_Count'].quantile(0.75)\n",
        "\n",
        "print(uc_q1)\n",
        "print(uc_q3)\n",
        "\n",
        "# Calculamos el rango intercuartil\n",
        "uc_iqr = uc_q3 - uc_q1\n",
        "\n",
        "# Calculamos el valor de los bigotes inferior y superior\n",
        "uc_lw = uc_q1 - (1.5 * uc_iqr)\n",
        "uc_uw = uc_q3 + (1.5 * uc_iqr)\n",
        "\n",
        "# Verificamos los resultados\n",
        "print('Primer cuartil: ', uc_q1)\n",
        "print('Tercer cuartil: ', uc_q3)\n",
        "print('Rango intercuartil: ', uc_iqr)\n",
        "print('Bigote inferior: ', uc_lw)\n",
        "print('Bigote superior: ', uc_uw)"
      ]
    },
    {
      "cell_type": "markdown",
      "metadata": {
        "id": "CFyoMv-bUpbq"
      },
      "source": [
        "Teniendo los valores de los bigotes, podemos detectar los outliers. Estos outliers se pueden definir como todos aquellos valores que se encuentran por fuera del rango comprendido entre los bigotes inferior y superior. Todos estos valores los vamos a volver nulos para tratar de normalizar los datos."
      ]
    },
    {
      "cell_type": "code",
      "execution_count": 31,
      "metadata": {
        "colab": {
          "base_uri": "https://localhost:8080/"
        },
        "id": "78P7zQZGUpbq",
        "outputId": "c8a2c8fd-5769-4fbf-805d-9b7b58de759f"
      },
      "outputs": [
        {
          "data": {
            "text/plain": [
              "Name                   0\n",
              "Platform               0\n",
              "Year_of_Release      269\n",
              "Genre                  0\n",
              "Publisher             54\n",
              "NA_Sales               0\n",
              "EU_Sales               0\n",
              "JP_Sales               0\n",
              "Other_Sales            0\n",
              "Global_Sales           0\n",
              "Critic_Score           0\n",
              "Critic_Count           0\n",
              "User_Score          9127\n",
              "User_Count         10207\n",
              "Developer           6621\n",
              "Rating              6767\n",
              "dtype: int64"
            ]
          },
          "execution_count": 31,
          "metadata": {},
          "output_type": "execute_result"
        }
      ],
      "source": [
        "# Armamos una condición lógica y la guardamos en una variable.\n",
        "uc_outliers = (df_toclean['User_Count'] < uc_lw) | (df_toclean['User_Count'] > uc_uw)\n",
        "\n",
        "# Usamos el atributo loc para acceder a todos los registros que cumplan la condición especificada y reemplazamos todos los\n",
        "# valores de dichos registros para la columna elegida con el valor nulo.\n",
        "df_toclean.loc[uc_outliers, 'User_Count'] = np.nan\n",
        "\n",
        "# Guardamos el avance del manejo de outliers para la columna.\n",
        "df_aux['User_Count'] = df_toclean['User_Count']\n",
        "\n",
        "# Volvemos a usar los métodos isna() y sum() para verificar los valores nulos de cada columna.\n",
        "df_toclean.isna().sum()"
      ]
    },
    {
      "cell_type": "markdown",
      "metadata": {
        "id": "_a22pOSsUpbq"
      },
      "source": [
        "Como podemos observar el número de valores nulos de la columna *User_Count* aumentó en casi mil unidades, por lo que la tranformación que hicimos surtió efecto. Con esto tenemos la columna lista para reemplazar todos sus valores nulos."
      ]
    },
    {
      "cell_type": "markdown",
      "metadata": {
        "id": "zLPvW_mnUpbr"
      },
      "source": [
        "#### Reemplazar el valor no vigente de la columna *Rating*\n",
        "\n",
        "Para el caso de la columna *Rating* debemos cambiar el valor no vigente *K-A* por su reemplazo *E*."
      ]
    },
    {
      "cell_type": "code",
      "execution_count": null,
      "metadata": {
        "colab": {
          "base_uri": "https://localhost:8080/"
        },
        "id": "Logz6PlvUpbr",
        "outputId": "feb63bdb-c0a5-41a0-9a50-451bc1be3ad5"
      },
      "outputs": [
        {
          "data": {
            "text/plain": [
              "array(['E', nan, 'M', 'T', 'E10+', 'AO', 'EC', 'RP'], dtype=object)"
            ]
          },
          "execution_count": 59,
          "metadata": {},
          "output_type": "execute_result"
        }
      ],
      "source": [
        "# Usamos el método replace() de pandas para cambiar los valores de una columna.\n",
        "df_toclean = df_toclean.replace({ 'Rating': { 'K-A': 'E' }})\n",
        "\n",
        "# Guardar el avance del cambio del valor no vigente de la columna.\n",
        "df_aux['Rating'] = df_toclean['Rating']\n",
        "\n",
        "# Usamos de nuevo el método unique() para verificar el cambio.\n",
        "df_toclean['Rating'].unique()"
      ]
    },
    {
      "cell_type": "markdown",
      "metadata": {
        "id": "FaYsST3zUpbr"
      },
      "source": [
        "¡En este punto ya tenemos todas las columnas listas para solucionar el problema de los valores nulos!"
      ]
    },
    {
      "cell_type": "markdown",
      "metadata": {
        "id": "8L5n2m-2Upbr"
      },
      "source": [
        "#### Volviendo a los nulos\n",
        "\n",
        "Retomando el problema de los valores nulos, recordemos las columnas que nos hacen falta por limpiar:\n",
        "1. La columna *User_Score*.\n",
        "2. La columna *User_Count*.\n",
        "3. La columna *Rating*.\n",
        "4. La columna *Developer*.\n",
        "5. La columna *Year_of_Release*.\n",
        "6. La columna *Publisher*.\n",
        "\n",
        "Comencemos por la columna *User_Score*. Para saber que estrategía de imputación vamos a utilizar veamos la distribución de sus datos."
      ]
    },
    {
      "cell_type": "code",
      "execution_count": 32,
      "metadata": {
        "colab": {
          "base_uri": "https://localhost:8080/",
          "height": 430
        },
        "id": "BwUTc6-QUpbs",
        "outputId": "ab5634cd-34c8-4d81-fcab-f21cdc521d64"
      },
      "outputs": [
        {
          "data": {
            "image/png": "[encoded data removed]",
            "text/plain": [
              "<Figure size 640x480 with 1 Axes>"
            ]
          },
          "metadata": {},
          "output_type": "display_data"
        }
      ],
      "source": [
        "# Usamos la variable user_score para dibujar la gráfica de histograma.\n",
        "plt.hist(user_score)\n",
        "plt.show()"
      ]
    },
    {
      "cell_type": "markdown",
      "metadata": {
        "id": "66ICgGexUpbs"
      },
      "source": [
        "Este histograma nos muestra una forma de campana desviada hacia la derecha, por lo que la mejor estrategia de imputación para esta columna es reemplazar los valores nulos por la mediana."
      ]
    },
    {
      "cell_type": "code",
      "execution_count": 33,
      "metadata": {
        "colab": {
          "base_uri": "https://localhost:8080/",
          "height": 430
        },
        "id": "TQNP3WraUpbs",
        "outputId": "3bf05366-7816-421e-e967-87ac6f3d4cc7"
      },
      "outputs": [
        {
          "data": {
            "image/png": "[encoded data removed]",
            "text/plain": [
              "<Figure size 640x480 with 1 Axes>"
            ]
          },
          "metadata": {},
          "output_type": "display_data"
        }
      ],
      "source": [
        "# Usamos el método median() para obtener el valor de la mediana y lo guardamos en una variable.\n",
        "us_median = user_score.median()\n",
        "\n",
        "# Con el método fillna() reemplazamos los valores nulos de una columna por un nuevo valor.\n",
        "df_toclean.fillna(value={'User_Score': us_median }, inplace=True)\n",
        "\n",
        "# Verificamos nuevamente el número de nulos.\n",
        "df_toclean.isna().sum()\n",
        "\n",
        "plt.hist(user_score)\n",
        "plt.show()"
      ]
    },
    {
      "cell_type": "markdown",
      "metadata": {
        "id": "MW6PxCg6Upbt"
      },
      "source": [
        "Prosigamos con la columna *User_Count*. Verifiquemos también la distribución de sus datos."
      ]
    },
    {
      "cell_type": "code",
      "execution_count": 34,
      "metadata": {
        "colab": {
          "base_uri": "https://localhost:8080/",
          "height": 430
        },
        "id": "wTpsg64yUpbt",
        "outputId": "4dc63bb7-a733-411f-bebd-5f80fb62ce10"
      },
      "outputs": [
        {
          "data": {
            "image/png": "[encoded data removed]",
            "text/plain": [
              "<Figure size 640x480 with 1 Axes>"
            ]
          },
          "metadata": {},
          "output_type": "display_data"
        }
      ],
      "source": [
        "# Obtenemos la columna, la guardamos en una variable y con el método dropna() quitamos los valores nulos\n",
        "# para que al dibujar la gráfica de histograma no nos dé ningún problema.\n",
        "user_count = df_toclean['User_Count'].dropna()\n",
        "\n",
        "# Usamos la gráfica de histograma para ver la distribución de los datos.\n",
        "plt.hist(user_count)\n",
        "plt.show()"
      ]
    },
    {
      "cell_type": "markdown",
      "metadata": {
        "id": "oz4G1LX5Upbx"
      },
      "source": [
        "La gráfica nos está indicando que la distribución de los datos para la columna *User_Count* no es homogénea por lo que aquí también es conveniente imputar los datos usando la mediana de los valores de esta columna."
      ]
    },
    {
      "cell_type": "code",
      "execution_count": 35,
      "metadata": {
        "colab": {
          "base_uri": "https://localhost:8080/"
        },
        "id": "MiLWhERzUpbz",
        "outputId": "dcf8c63a-b108-46e0-c057-7b935ac94ed1"
      },
      "outputs": [
        {
          "data": {
            "text/plain": [
              "Name                  0\n",
              "Platform              0\n",
              "Year_of_Release     269\n",
              "Genre                 0\n",
              "Publisher            54\n",
              "NA_Sales              0\n",
              "EU_Sales              0\n",
              "JP_Sales              0\n",
              "Other_Sales           0\n",
              "Global_Sales          0\n",
              "Critic_Score          0\n",
              "Critic_Count          0\n",
              "User_Score            0\n",
              "User_Count            0\n",
              "Developer          6621\n",
              "Rating             6767\n",
              "dtype: int64"
            ]
          },
          "execution_count": 35,
          "metadata": {},
          "output_type": "execute_result"
        }
      ],
      "source": [
        "# Usamos el método median() para obtener el valor de la mediana y lo guardamos en una variable.\n",
        "uc_median = user_count.median()\n",
        "\n",
        "# Con el método fillna() reemplazamos los valores nulos de una columna por un nuevo valor.\n",
        "df_toclean.fillna({ 'User_Count': uc_median }, inplace=True)\n",
        "\n",
        "# Verificamos nuevamente el número de nulos.\n",
        "df_toclean.isna().sum()"
      ]
    },
    {
      "cell_type": "markdown",
      "metadata": {
        "id": "82uszCKMUpb0"
      },
      "source": [
        "Para la columna *Rating* lo que podemos hacer es utilizar la moda para reemplazar los valores nulos. En este caso sabemos que el valor que más se repite es el rating *E*, por lo que reemplazamos los nulos por este valor."
      ]
    },
    {
      "cell_type": "code",
      "execution_count": 36,
      "metadata": {
        "colab": {
          "base_uri": "https://localhost:8080/"
        },
        "id": "2WP3WBOCUpb0",
        "outputId": "b2b73b9c-e3dc-44a8-f834-f0a57c73d7da"
      },
      "outputs": [
        {
          "data": {
            "text/plain": [
              "Name                  0\n",
              "Platform              0\n",
              "Year_of_Release     269\n",
              "Genre                 0\n",
              "Publisher            54\n",
              "NA_Sales              0\n",
              "EU_Sales              0\n",
              "JP_Sales              0\n",
              "Other_Sales           0\n",
              "Global_Sales          0\n",
              "Critic_Score          0\n",
              "Critic_Count          0\n",
              "User_Score            0\n",
              "User_Count            0\n",
              "Developer          6621\n",
              "Rating                0\n",
              "dtype: int64"
            ]
          },
          "execution_count": 36,
          "metadata": {},
          "output_type": "execute_result"
        }
      ],
      "source": [
        "# Usamos método fillna() para reemplazar los valores nulos de una columna por un nuevo valor.\n",
        "df_toclean.fillna(value={ 'Rating': 'E' }, inplace=True)\n",
        "\n",
        "# Guardamos el avance de la imputación de los valores nulos de la columna categórica.\n",
        "df_aux['Rating'] = df_toclean['Rating']\n",
        "\n",
        "# Verificamos nuevamente el número de nulos.\n",
        "df_toclean.isna().sum()"
      ]
    },
    {
      "cell_type": "markdown",
      "metadata": {
        "id": "uUi5M-YsUpb1"
      },
      "source": [
        "En este punto ya solo nos quedan tres columnas con valores nulos. Veamos primero el caso de la columna *Developer*. Como habíamos identificado anteriormente, esta columna es de tipo categórico por lo que, siguiendo las recomendaciones de imputación, podríamos reemplazar sus valores nulos con la moda. Pero aquí surge un inconveniente: si reemplazamos con la moda nos pueden quedar desarrolladores equivocados para muchos de los videojuegos de la lista (E.g. Nintendo como desarrollador Call of Duty). Aquí lo que podemos hacer es reemplazar los valores nulos por el valor correspondiente al editor para cada registro. Esto porque es bastante común que la empresa que publica el videojuego también sea la misma que lo desarrolla (E.g. aveces se pueden ver a Activision como el desarrollador de Call of Duty)."
      ]
    },
    {
      "cell_type": "code",
      "execution_count": 37,
      "metadata": {
        "colab": {
          "base_uri": "https://localhost:8080/"
        },
        "id": "dmHEK2mDUpb2",
        "outputId": "8d6ba965-a89b-4e64-8380-ee4e6ef64662"
      },
      "outputs": [
        {
          "data": {
            "text/plain": [
              "Name                 0\n",
              "Platform             0\n",
              "Year_of_Release    269\n",
              "Genre                0\n",
              "Publisher           54\n",
              "NA_Sales             0\n",
              "EU_Sales             0\n",
              "JP_Sales             0\n",
              "Other_Sales          0\n",
              "Global_Sales         0\n",
              "Critic_Score         0\n",
              "Critic_Count         0\n",
              "User_Score           0\n",
              "User_Count           0\n",
              "Developer           45\n",
              "Rating               0\n",
              "dtype: int64"
            ]
          },
          "execution_count": 37,
          "metadata": {},
          "output_type": "execute_result"
        }
      ],
      "source": [
        "# Sabemos que el total de registros del dataset es de 16717 por lo que vamos a recorrer esa cantidad.\n",
        "for i in range(16717):\n",
        "    developer = df_toclean['Developer'][i]\n",
        "    publisher = df_toclean['Publisher'][i]\n",
        "\n",
        "    # Aquí vamos a verificar que el valor de Developer para esa posición sea nulo y que el valor de Publisher para esa misma\n",
        "    # posición sea diferente de nulo. Si estas dos condiciones se cumplen hacemos el reemplazo.\n",
        "    if pd.isna(developer) and not pd.isna(publisher):\n",
        "        df_toclean.loc[i, 'Developer'] = publisher\n",
        "\n",
        "# Guardamos el avance de la imputación de los valores nulos de la columna categórica.\n",
        "df_aux['Developer'] = df_toclean['Developer']\n",
        "\n",
        "df_toclean.isna().sum()"
      ]
    },
    {
      "cell_type": "markdown",
      "metadata": {
        "id": "Wa1amdWiUpb2"
      },
      "source": [
        "Con esta estrategia hemos podido eliminar una gran cantidad de valores nulos de la columna *Developer*. Ya en este punto no tenemos una estrategia clara para eliminar los nulos faltantes de dicha columna. Veamos las dos columnas restantes:\n",
        "- Si analizamos la columna *Publisher* aquí tampoco podemos aplicar la moda por la misma razón que no pudimos hacerlo para la columna *Developer*. Por otro lado, la estrategia usada para para eliminar los valores nulos de *Developer* no nos serviría de mucho pues no es muy común que la empresa desarrolladora sea catalogada también como la editora (E.g. Treyarch).\n",
        "- La columna *Year_of_Release*, a pesar de ser una columna numérica, en realidad sus valores son categóricos, por lo que habría que usar la moda para reemplazar los valores nulos. De nuevo esta estrategia no sería muy buena pues muchos videojuegos quedarían con un año equivocado de publicación.\n",
        "\n",
        "En ese sentido podemos optar por dos caminos:\n",
        "1. Eliminar los registros que tienen estos valores nulos.\n",
        "2. Reemplazar esos valores nulos por otro valor que indique que es desconocido (esto se puede ver en varias columnas categóricas del dataset como *Publisher* o *Developer*).\n",
        "\n",
        "Veamos que porcentaje del dataset representan estos últimos registros con valores nulos."
      ]
    },
    {
      "cell_type": "code",
      "execution_count": 38,
      "metadata": {
        "colab": {
          "base_uri": "https://localhost:8080/"
        },
        "id": "stQsLp1FUpb3",
        "outputId": "1221b65e-f4c9-47a6-8d0c-3e99f99e9628"
      },
      "outputs": [
        {
          "ename": "AttributeError",
          "evalue": "module 'numpy' has no attribute 'product'",
          "output_type": "error",
          "traceback": [
            "\u001b[31m---------------------------------------------------------------------------\u001b[39m",
            "\u001b[31mAttributeError\u001b[39m                            Traceback (most recent call last)",
            "\u001b[36mCell\u001b[39m\u001b[36m \u001b[39m\u001b[32mIn[38]\u001b[39m\u001b[32m, line 2\u001b[39m\n\u001b[32m      1\u001b[39m \u001b[38;5;66;03m# Calculamos el total de celdas que posee el dataset (filas x columnas).\u001b[39;00m\n\u001b[32m----> \u001b[39m\u001b[32m2\u001b[39m total_cells = \u001b[43mnp\u001b[49m\u001b[43m.\u001b[49m\u001b[43mproduct\u001b[49m(df_toclean.shape)\n\u001b[32m      4\u001b[39m \u001b[38;5;66;03m# Calculamos el total de celdas que tienen valores nulos.\u001b[39;00m\n\u001b[32m      5\u001b[39m missing = df_toclean.isna().sum() \u001b[38;5;66;03m# Celdas con valores nulos por columna.\u001b[39;00m\n",
            "\u001b[36mFile \u001b[39m\u001b[32m~\\AppData\\Local\\Packages\\PythonSoftwareFoundation.Python.3.12_qbz5n2kfra8p0\\LocalCache\\local-packages\\Python312\\site-packages\\numpy\\__init__.py:808\u001b[39m, in \u001b[36m__getattr__\u001b[39m\u001b[34m(attr)\u001b[39m\n\u001b[32m    805\u001b[39m     \u001b[38;5;28;01mimport\u001b[39;00m\u001b[38;5;250m \u001b[39m\u001b[34;01mnumpy\u001b[39;00m\u001b[34;01m.\u001b[39;00m\u001b[34;01mchar\u001b[39;00m\u001b[38;5;250m \u001b[39m\u001b[38;5;28;01mas\u001b[39;00m\u001b[38;5;250m \u001b[39m\u001b[34;01mchar\u001b[39;00m\n\u001b[32m    806\u001b[39m     \u001b[38;5;28;01mreturn\u001b[39;00m char.chararray\n\u001b[32m--> \u001b[39m\u001b[32m808\u001b[39m \u001b[38;5;28;01mraise\u001b[39;00m \u001b[38;5;167;01mAttributeError\u001b[39;00m(\u001b[33mf\u001b[39m\u001b[33m\"\u001b[39m\u001b[33mmodule \u001b[39m\u001b[38;5;132;01m{\u001b[39;00m\u001b[34m__name__\u001b[39m\u001b[38;5;132;01m!r}\u001b[39;00m\u001b[33m has no attribute \u001b[39m\u001b[38;5;132;01m{\u001b[39;00mattr\u001b[38;5;132;01m!r}\u001b[39;00m\u001b[33m\"\u001b[39m)\n",
            "\u001b[31mAttributeError\u001b[39m: module 'numpy' has no attribute 'product'"
          ]
        }
      ],
      "source": [
        "# Calculamos el total de celdas que posee el dataset (filas x columnas).\n",
        "total_cells = np.product(df_toclean.shape)\n",
        "\n",
        "# Calculamos el total de celdas que tienen valores nulos.\n",
        "missing = df_toclean.isna().sum() # Celdas con valores nulos por columna.\n",
        "total_missing = missing.sum()\n",
        "\n",
        "# Finalmente calculamos el porcentaje.\n",
        "missing_percent = (total_missing / total_cells) * 100\n",
        "\n",
        "print('Porcentaje de valores nulos en todo el dataset: ', missing_percent)"
      ]
    },
    {
      "cell_type": "markdown",
      "metadata": {
        "id": "X1ggeIVqUpb3"
      },
      "source": [
        "Tenemos que el porcentaje de valores nulos restantes es de 14% en comparación con todos los datos del dataset. Aunque este porcentaje es aceptable para tomar la decisión de borrar los datos, debemos tener en cuenta que tenemos muchas más columnas con valores para estos registros que nos pueden brindar información valiosa.\n",
        "\n",
        "Para el caso de este ejercicio vamos a optar por el segundo camino. Lo que haremos será reemplazar los valores nulos de la columna *Year_of_Release* por un valor de 9999.00 y los valores nulos de las columnas *Publisher* y *Developer* por el valor 'Unknown' (valor que se maneja en estas columnas)."
      ]
    },
    {
      "cell_type": "code",
      "execution_count": 39,
      "metadata": {
        "colab": {
          "base_uri": "https://localhost:8080/"
        },
        "id": "NzDcpo78Upb4",
        "outputId": "48d41784-3dd1-421a-e123-391a0626fb38"
      },
      "outputs": [
        {
          "data": {
            "text/plain": [
              "Name               0\n",
              "Platform           0\n",
              "Year_of_Release    0\n",
              "Genre              0\n",
              "Publisher          0\n",
              "NA_Sales           0\n",
              "EU_Sales           0\n",
              "JP_Sales           0\n",
              "Other_Sales        0\n",
              "Global_Sales       0\n",
              "Critic_Score       0\n",
              "Critic_Count       0\n",
              "User_Score         0\n",
              "User_Count         0\n",
              "Developer          0\n",
              "Rating             0\n",
              "dtype: int64"
            ]
          },
          "execution_count": 39,
          "metadata": {},
          "output_type": "execute_result"
        }
      ],
      "source": [
        "# Usamos el método fillna() para reemplazar los valores nulos de las colmnas restantes.\n",
        "df_toclean.fillna({ 'Year_of_Release': 9999.00 }, inplace=True)\n",
        "df_toclean.fillna({ 'Publisher': 'Unknown' }, inplace=True)\n",
        "df_toclean.fillna({ 'Developer': 'Unknown' }, inplace=True)\n",
        "\n",
        "# Guardamos los avances referentes a las imputaciones finales de valores nulos en las columnas categóricas.\n",
        "df_aux['Year_of_Release'] = df_toclean['Year_of_Release']\n",
        "df_aux['Publisher'] = df_toclean['Developer']\n",
        "df_aux['Developer'] = df_toclean['Developer']\n",
        "\n",
        "# Verificamos el número total de valores nulos.\n",
        "df_toclean.isna().sum()"
      ]
    },
    {
      "cell_type": "markdown",
      "metadata": {
        "id": "dId3VVnVUpb4"
      },
      "source": [
        "Como podemos ver, hemos eliminado por completo los valores nulos y hemos logrado solucionar los errores que habíamos detectado. Veamos ahora información estadística de nuestras columnas numéricas ya procesadas."
      ]
    },
    {
      "cell_type": "code",
      "execution_count": 40,
      "metadata": {
        "colab": {
          "base_uri": "https://localhost:8080/",
          "height": 407
        },
        "id": "jc3LX05sUpb4",
        "outputId": "6dbc4066-9d91-4db7-d723-a2d90f1a4838"
      },
      "outputs": [
        {
          "data": {
            "text/html": [
              "<div>\n",
              "<style scoped>\n",
              "    .dataframe tbody tr th:only-of-type {\n",
              "        vertical-align: middle;\n",
              "    }\n",
              "\n",
              "    .dataframe tbody tr th {\n",
              "        vertical-align: top;\n",
              "    }\n",
              "\n",
              "    .dataframe thead th {\n",
              "        text-align: right;\n",
              "    }\n",
              "</style>\n",
              "<table border=\"1\" class=\"dataframe\">\n",
              "  <thead>\n",
              "    <tr style=\"text-align: right;\">\n",
              "      <th></th>\n",
              "      <th>count</th>\n",
              "      <th>mean</th>\n",
              "      <th>std</th>\n",
              "      <th>min</th>\n",
              "      <th>25%</th>\n",
              "      <th>50%</th>\n",
              "      <th>75%</th>\n",
              "      <th>max</th>\n",
              "    </tr>\n",
              "  </thead>\n",
              "  <tbody>\n",
              "    <tr>\n",
              "      <th>Year_of_Release</th>\n",
              "      <td>16717.0</td>\n",
              "      <td>2135.099719</td>\n",
              "      <td>1005.721828</td>\n",
              "      <td>1980.00</td>\n",
              "      <td>2003.00</td>\n",
              "      <td>2008.00</td>\n",
              "      <td>2011.00</td>\n",
              "      <td>9999.00</td>\n",
              "    </tr>\n",
              "    <tr>\n",
              "      <th>NA_Sales</th>\n",
              "      <td>16717.0</td>\n",
              "      <td>0.263255</td>\n",
              "      <td>0.813475</td>\n",
              "      <td>0.00</td>\n",
              "      <td>0.00</td>\n",
              "      <td>0.08</td>\n",
              "      <td>0.24</td>\n",
              "      <td>41.36</td>\n",
              "    </tr>\n",
              "    <tr>\n",
              "      <th>EU_Sales</th>\n",
              "      <td>16717.0</td>\n",
              "      <td>0.145010</td>\n",
              "      <td>0.503303</td>\n",
              "      <td>0.00</td>\n",
              "      <td>0.00</td>\n",
              "      <td>0.02</td>\n",
              "      <td>0.11</td>\n",
              "      <td>28.96</td>\n",
              "    </tr>\n",
              "    <tr>\n",
              "      <th>JP_Sales</th>\n",
              "      <td>16717.0</td>\n",
              "      <td>0.077610</td>\n",
              "      <td>0.308836</td>\n",
              "      <td>0.00</td>\n",
              "      <td>0.00</td>\n",
              "      <td>0.00</td>\n",
              "      <td>0.04</td>\n",
              "      <td>10.22</td>\n",
              "    </tr>\n",
              "    <tr>\n",
              "      <th>Other_Sales</th>\n",
              "      <td>16717.0</td>\n",
              "      <td>0.047333</td>\n",
              "      <td>0.186721</td>\n",
              "      <td>0.00</td>\n",
              "      <td>0.00</td>\n",
              "      <td>0.01</td>\n",
              "      <td>0.03</td>\n",
              "      <td>10.57</td>\n",
              "    </tr>\n",
              "    <tr>\n",
              "      <th>Global_Sales</th>\n",
              "      <td>16717.0</td>\n",
              "      <td>0.533462</td>\n",
              "      <td>1.547956</td>\n",
              "      <td>0.01</td>\n",
              "      <td>0.06</td>\n",
              "      <td>0.17</td>\n",
              "      <td>0.47</td>\n",
              "      <td>82.53</td>\n",
              "    </tr>\n",
              "    <tr>\n",
              "      <th>Critic_Score</th>\n",
              "      <td>16717.0</td>\n",
              "      <td>70.010767</td>\n",
              "      <td>9.776915</td>\n",
              "      <td>13.00</td>\n",
              "      <td>71.00</td>\n",
              "      <td>71.00</td>\n",
              "      <td>71.00</td>\n",
              "      <td>98.00</td>\n",
              "    </tr>\n",
              "    <tr>\n",
              "      <th>Critic_Count</th>\n",
              "      <td>16717.0</td>\n",
              "      <td>23.609380</td>\n",
              "      <td>13.510184</td>\n",
              "      <td>3.00</td>\n",
              "      <td>21.00</td>\n",
              "      <td>21.00</td>\n",
              "      <td>21.00</td>\n",
              "      <td>113.00</td>\n",
              "    </tr>\n",
              "    <tr>\n",
              "      <th>User_Score</th>\n",
              "      <td>16717.0</td>\n",
              "      <td>7.329760</td>\n",
              "      <td>1.027790</td>\n",
              "      <td>0.00</td>\n",
              "      <td>7.50</td>\n",
              "      <td>7.50</td>\n",
              "      <td>7.50</td>\n",
              "      <td>9.70</td>\n",
              "    </tr>\n",
              "    <tr>\n",
              "      <th>User_Count</th>\n",
              "      <td>16717.0</td>\n",
              "      <td>25.255668</td>\n",
              "      <td>25.534801</td>\n",
              "      <td>4.00</td>\n",
              "      <td>19.00</td>\n",
              "      <td>19.00</td>\n",
              "      <td>19.00</td>\n",
              "      <td>187.00</td>\n",
              "    </tr>\n",
              "  </tbody>\n",
              "</table>\n",
              "</div>"
            ],
            "text/plain": [
              "                   count         mean          std      min      25%      50%  \\\n",
              "Year_of_Release  16717.0  2135.099719  1005.721828  1980.00  2003.00  2008.00   \n",
              "NA_Sales         16717.0     0.263255     0.813475     0.00     0.00     0.08   \n",
              "EU_Sales         16717.0     0.145010     0.503303     0.00     0.00     0.02   \n",
              "JP_Sales         16717.0     0.077610     0.308836     0.00     0.00     0.00   \n",
              "Other_Sales      16717.0     0.047333     0.186721     0.00     0.00     0.01   \n",
              "Global_Sales     16717.0     0.533462     1.547956     0.01     0.06     0.17   \n",
              "Critic_Score     16717.0    70.010767     9.776915    13.00    71.00    71.00   \n",
              "Critic_Count     16717.0    23.609380    13.510184     3.00    21.00    21.00   \n",
              "User_Score       16717.0     7.329760     1.027790     0.00     7.50     7.50   \n",
              "User_Count       16717.0    25.255668    25.534801     4.00    19.00    19.00   \n",
              "\n",
              "                     75%      max  \n",
              "Year_of_Release  2011.00  9999.00  \n",
              "NA_Sales            0.24    41.36  \n",
              "EU_Sales            0.11    28.96  \n",
              "JP_Sales            0.04    10.22  \n",
              "Other_Sales         0.03    10.57  \n",
              "Global_Sales        0.47    82.53  \n",
              "Critic_Score       71.00    98.00  \n",
              "Critic_Count       21.00   113.00  \n",
              "User_Score          7.50     9.70  \n",
              "User_Count         19.00   187.00  "
            ]
          },
          "execution_count": 40,
          "metadata": {},
          "output_type": "execute_result"
        }
      ],
      "source": [
        "# Usamos el método describe() para ver información estadística de las columnas del dataset final.\n",
        "df_toclean.describe().T"
      ]
    },
    {
      "cell_type": "markdown",
      "metadata": {
        "id": "WC3XFdWpUpb4"
      },
      "source": [
        "#### Ups! parece que algo no anda del todo bien...\n",
        "\n",
        "Las columnas *Critic_Score*, *Critic_Count*, *User_Score* y *User_Count* parecieran tener un comportamiento extraño pues sus tres cuartiles tienen el mismo valor. Además *Critic_Count* y *User_Count* parecieran tener aún valores atípicos. Veamos por ejemplo estas columnas en una gráfica de cajas y bigotes."
      ]
    },
    {
      "cell_type": "code",
      "execution_count": 41,
      "metadata": {
        "colab": {
          "base_uri": "https://localhost:8080/",
          "height": 265
        },
        "id": "-9HjY73lUpb5",
        "outputId": "6b325a92-4ec5-4fc0-fa35-1f62295c0f88"
      },
      "outputs": [
        {
          "data": {
            "image/png": "[encoded data removed]",
            "text/plain": [
              "<Figure size 640x480 with 1 Axes>"
            ]
          },
          "metadata": {},
          "output_type": "display_data"
        }
      ],
      "source": [
        "# Visualizamos las columnas usando una gráfica de cajas y bigotes.\n",
        "plt.boxplot([df_toclean['Critic_Score'], df_toclean['Critic_Count'], df_toclean['User_Score'], df_toclean['User_Count']])\n",
        "plt.show()"
      ]
    },
    {
      "cell_type": "markdown",
      "metadata": {
        "id": "3XYufZheUpb5"
      },
      "source": [
        "Con esta gráfica confirmamos que estas columnas tienen un comportamiento extraño: todos los cuartiles tienen el mismo valor de la mediana. Recordando lo que hicimos al reemplazar los valores nulos esto tiene sentido pues hicimos una imputación usando la mediana en mas de 8K valores, esto es, más de la mitad de los registros totales para cada una de las columnas. Este comportamiento está causando que se presenten muchos valores atípicos.\n",
        "\n",
        "Lo que acabamos de ver quiere decir que pasamos algo por alto y estas cuatro columnas son suceptibles a mejoras."
      ]
    },
    {
      "cell_type": "markdown",
      "metadata": {
        "id": "s3itJNH2Upb6"
      },
      "source": [
        "### ¿Cómo podemos mejorar el análisis y limpieza realizados?\n",
        "\n",
        "Para mejorar el análisis y limpieza que ya hicimos sobre las cuatro columnas podemos tener en cuenta los siguiente:\n",
        "1. Para hacer la imputación usando la mediana lo que hicimos fue ver si todos los datos de la columna tenían una distribución normal y después calculamos la mediana de toda la columna. Esto es lo que se conoce como un análisis univariado (lo que no está mal). Para mejorar esto se pueden hacer dos cosas:\n",
        "   - Lo primero es utilizar un método estadístico para asegurarnos del tipo de distribución que tienen los datos de la columna. Esto porque muchas veces no se puede asegurar si la distribución es homogénea o heterogénea usando únicamente una gráfica. Se puede usar **Kolmogorov-Smirnov** para una muestra mayor a 50.\n",
        "   - La segunda alternativa es pasar a un análisis bivariado. Esto significa, tratar de encontrar una relación entre la columna a la que se quiere hacer imputación y otra columna del dataset. Con esta relación verificar su distribución y decidir que estrategia usar. E.g. Ver la distribución de User_Count para un género específico del videojuego e imputar solo los registros que pertenezcan a dicho género.\n",
        "2. Usar un algoritmo de interpolación para imputar los valores nulos.\n",
        "3. Crear un módelo para calcular qué valor deberían tener los valores nulos e imputarlos. Esto requiere ayuda de algoritmos de Machine Learning.\n",
        "4. En referencia a los valores atípicos se podría ser un poco más riguroso, ejecutando el código de eliminación de dichos valores las veces que sea necesario hasta que no haya ningún valor atípico. **Ojo**: esto puede causar pérdida de información.\n",
        "\n",
        "En este ejemplo vamos a optar por la opción 1.b: trataremos de hacer análisis bivariado. ¿Recuerdan el dataframe *df_aux*? Es momento de usarlo. Este dataframe tiene guardados algunos cambios que nos pueden servir para no repetir el proceso completo. Recordemos dichos cambios:\n",
        "- Todas las columnas de tipo categórico ya están correctamente imputadas, es decir, sus valores nulos ya se reemplazaron de forma correcta.\n",
        "- La columna *User_Count* ya no tiene los outliers que habíamos detectado al principio."
      ]
    },
    {
      "cell_type": "code",
      "execution_count": 42,
      "metadata": {
        "id": "6-1V-XEIUpb6",
        "outputId": "adc17db5-17e8-4b60-8af3-586ebbb9262c"
      },
      "outputs": [
        {
          "data": {
            "text/plain": [
              "Name                   0\n",
              "Platform               0\n",
              "Year_of_Release        0\n",
              "Genre                  0\n",
              "Publisher              0\n",
              "NA_Sales               0\n",
              "EU_Sales               0\n",
              "JP_Sales               0\n",
              "Other_Sales            0\n",
              "Global_Sales           0\n",
              "Critic_Score        8580\n",
              "Critic_Count        8580\n",
              "User_Score          9127\n",
              "User_Count         10207\n",
              "Developer              0\n",
              "Rating                 0\n",
              "dtype: int64"
            ]
          },
          "execution_count": 42,
          "metadata": {},
          "output_type": "execute_result"
        }
      ],
      "source": [
        "# Verificamos en que estado está el dataframe df_aux en cuanto a sus valores nulos.\n",
        "df_aux.isna().sum()"
      ]
    },
    {
      "cell_type": "code",
      "execution_count": 43,
      "metadata": {
        "id": "GcIn4i9CUpb7",
        "outputId": "9475ba33-d43d-4f9b-927a-48aef06098c0"
      },
      "outputs": [
        {
          "data": {
            "text/html": [
              "<div>\n",
              "<style scoped>\n",
              "    .dataframe tbody tr th:only-of-type {\n",
              "        vertical-align: middle;\n",
              "    }\n",
              "\n",
              "    .dataframe tbody tr th {\n",
              "        vertical-align: top;\n",
              "    }\n",
              "\n",
              "    .dataframe thead th {\n",
              "        text-align: right;\n",
              "    }\n",
              "</style>\n",
              "<table border=\"1\" class=\"dataframe\">\n",
              "  <thead>\n",
              "    <tr style=\"text-align: right;\">\n",
              "      <th></th>\n",
              "      <th>count</th>\n",
              "      <th>mean</th>\n",
              "      <th>std</th>\n",
              "      <th>min</th>\n",
              "      <th>25%</th>\n",
              "      <th>50%</th>\n",
              "      <th>75%</th>\n",
              "      <th>max</th>\n",
              "    </tr>\n",
              "  </thead>\n",
              "  <tbody>\n",
              "    <tr>\n",
              "      <th>Year_of_Release</th>\n",
              "      <td>16717.0</td>\n",
              "      <td>2135.099719</td>\n",
              "      <td>1005.721828</td>\n",
              "      <td>1980.00</td>\n",
              "      <td>2003.00</td>\n",
              "      <td>2008.00</td>\n",
              "      <td>2011.00</td>\n",
              "      <td>9999.00</td>\n",
              "    </tr>\n",
              "    <tr>\n",
              "      <th>NA_Sales</th>\n",
              "      <td>16717.0</td>\n",
              "      <td>0.263255</td>\n",
              "      <td>0.813475</td>\n",
              "      <td>0.00</td>\n",
              "      <td>0.00</td>\n",
              "      <td>0.08</td>\n",
              "      <td>0.24</td>\n",
              "      <td>41.36</td>\n",
              "    </tr>\n",
              "    <tr>\n",
              "      <th>EU_Sales</th>\n",
              "      <td>16717.0</td>\n",
              "      <td>0.145010</td>\n",
              "      <td>0.503303</td>\n",
              "      <td>0.00</td>\n",
              "      <td>0.00</td>\n",
              "      <td>0.02</td>\n",
              "      <td>0.11</td>\n",
              "      <td>28.96</td>\n",
              "    </tr>\n",
              "    <tr>\n",
              "      <th>JP_Sales</th>\n",
              "      <td>16717.0</td>\n",
              "      <td>0.077610</td>\n",
              "      <td>0.308836</td>\n",
              "      <td>0.00</td>\n",
              "      <td>0.00</td>\n",
              "      <td>0.00</td>\n",
              "      <td>0.04</td>\n",
              "      <td>10.22</td>\n",
              "    </tr>\n",
              "    <tr>\n",
              "      <th>Other_Sales</th>\n",
              "      <td>16717.0</td>\n",
              "      <td>0.047333</td>\n",
              "      <td>0.186721</td>\n",
              "      <td>0.00</td>\n",
              "      <td>0.00</td>\n",
              "      <td>0.01</td>\n",
              "      <td>0.03</td>\n",
              "      <td>10.57</td>\n",
              "    </tr>\n",
              "    <tr>\n",
              "      <th>Global_Sales</th>\n",
              "      <td>16717.0</td>\n",
              "      <td>0.533462</td>\n",
              "      <td>1.547956</td>\n",
              "      <td>0.01</td>\n",
              "      <td>0.06</td>\n",
              "      <td>0.17</td>\n",
              "      <td>0.47</td>\n",
              "      <td>82.53</td>\n",
              "    </tr>\n",
              "    <tr>\n",
              "      <th>Critic_Score</th>\n",
              "      <td>8137.0</td>\n",
              "      <td>68.967679</td>\n",
              "      <td>13.938165</td>\n",
              "      <td>13.00</td>\n",
              "      <td>60.00</td>\n",
              "      <td>71.00</td>\n",
              "      <td>79.00</td>\n",
              "      <td>98.00</td>\n",
              "    </tr>\n",
              "    <tr>\n",
              "      <th>Critic_Count</th>\n",
              "      <td>8137.0</td>\n",
              "      <td>26.360821</td>\n",
              "      <td>18.980495</td>\n",
              "      <td>3.00</td>\n",
              "      <td>12.00</td>\n",
              "      <td>21.00</td>\n",
              "      <td>36.00</td>\n",
              "      <td>113.00</td>\n",
              "    </tr>\n",
              "    <tr>\n",
              "      <th>User_Score</th>\n",
              "      <td>7590.0</td>\n",
              "      <td>7.125046</td>\n",
              "      <td>1.500006</td>\n",
              "      <td>0.00</td>\n",
              "      <td>6.40</td>\n",
              "      <td>7.50</td>\n",
              "      <td>8.20</td>\n",
              "      <td>9.70</td>\n",
              "    </tr>\n",
              "    <tr>\n",
              "      <th>User_Count</th>\n",
              "      <td>6510.0</td>\n",
              "      <td>35.063902</td>\n",
              "      <td>38.947517</td>\n",
              "      <td>4.00</td>\n",
              "      <td>9.00</td>\n",
              "      <td>19.00</td>\n",
              "      <td>45.00</td>\n",
              "      <td>187.00</td>\n",
              "    </tr>\n",
              "  </tbody>\n",
              "</table>\n",
              "</div>"
            ],
            "text/plain": [
              "                   count         mean          std      min      25%      50%  \\\n",
              "Year_of_Release  16717.0  2135.099719  1005.721828  1980.00  2003.00  2008.00   \n",
              "NA_Sales         16717.0     0.263255     0.813475     0.00     0.00     0.08   \n",
              "EU_Sales         16717.0     0.145010     0.503303     0.00     0.00     0.02   \n",
              "JP_Sales         16717.0     0.077610     0.308836     0.00     0.00     0.00   \n",
              "Other_Sales      16717.0     0.047333     0.186721     0.00     0.00     0.01   \n",
              "Global_Sales     16717.0     0.533462     1.547956     0.01     0.06     0.17   \n",
              "Critic_Score      8137.0    68.967679    13.938165    13.00    60.00    71.00   \n",
              "Critic_Count      8137.0    26.360821    18.980495     3.00    12.00    21.00   \n",
              "User_Score        7590.0     7.125046     1.500006     0.00     6.40     7.50   \n",
              "User_Count        6510.0    35.063902    38.947517     4.00     9.00    19.00   \n",
              "\n",
              "                     75%      max  \n",
              "Year_of_Release  2011.00  9999.00  \n",
              "NA_Sales            0.24    41.36  \n",
              "EU_Sales            0.11    28.96  \n",
              "JP_Sales            0.04    10.22  \n",
              "Other_Sales         0.03    10.57  \n",
              "Global_Sales        0.47    82.53  \n",
              "Critic_Score       79.00    98.00  \n",
              "Critic_Count       36.00   113.00  \n",
              "User_Score          8.20     9.70  \n",
              "User_Count         45.00   187.00  "
            ]
          },
          "execution_count": 43,
          "metadata": {},
          "output_type": "execute_result"
        }
      ],
      "source": [
        "# Vericamos las estadísticas de las columnas numéricas del dataframe df_aux.\n",
        "df_aux.describe().T"
      ]
    },
    {
      "cell_type": "markdown",
      "metadata": {
        "id": "xZ_FYe0uUpb7"
      },
      "source": [
        "Una vez que confirmamos que el dataframe *df_aux* tiene los cambios esperados, procedemos a utilizarlo para mejor la limpieza de los datos."
      ]
    },
    {
      "cell_type": "code",
      "execution_count": 44,
      "metadata": {
        "id": "KAwQk1boUpb7"
      },
      "outputs": [],
      "source": [
        "# Creamos una copia basada en df_aux con la que vamos a realizar las mejoras.\n",
        "df_fix = df_aux.copy()"
      ]
    },
    {
      "cell_type": "markdown",
      "metadata": {
        "id": "_HSsqrsfUpb7"
      },
      "source": [
        "Comencemos analizando qué columnas pueden estar relacionadas con las columnas que vamos a mejorar en especial las de puntaje (recordemos que las de conteo están muy relacionadas al puntaje). Es muy probable que el puntaje que se le da a un videojuego esté relacionado con valores categóricos como: a) la plataforma en la que funciona el juego (un juego puede funcionar bien en determinadas plataformas y en otras puede que no), b) el género del juego y c) la casa desarrolladora del juego (fama de la casa desarroladora. E.g. hay casas desarroladoras que tienen fama de implementar juegos con muchos bugs); y con valores numéricos como el número de ventas (pueden ser las globales). La relación que existe entre valores numéricos se puede verificar usando tablas de **correlación**. Creemos un dataframe con las columnas nombradas y las columnas a mejorar."
      ]
    },
    {
      "cell_type": "code",
      "execution_count": 45,
      "metadata": {
        "id": "ZRMcSMyYUpb7",
        "outputId": "3d928c73-31b0-4d98-8703-90e7a0301622",
        "scrolled": false
      },
      "outputs": [
        {
          "data": {
            "text/html": [
              "<div>\n",
              "<style scoped>\n",
              "    .dataframe tbody tr th:only-of-type {\n",
              "        vertical-align: middle;\n",
              "    }\n",
              "\n",
              "    .dataframe tbody tr th {\n",
              "        vertical-align: top;\n",
              "    }\n",
              "\n",
              "    .dataframe thead th {\n",
              "        text-align: right;\n",
              "    }\n",
              "</style>\n",
              "<table border=\"1\" class=\"dataframe\">\n",
              "  <thead>\n",
              "    <tr style=\"text-align: right;\">\n",
              "      <th></th>\n",
              "      <th>Platform</th>\n",
              "      <th>Genre</th>\n",
              "      <th>Global_Sales</th>\n",
              "      <th>Critic_Score</th>\n",
              "      <th>Critic_Count</th>\n",
              "      <th>User_Score</th>\n",
              "      <th>User_Count</th>\n",
              "      <th>Developer</th>\n",
              "    </tr>\n",
              "  </thead>\n",
              "  <tbody>\n",
              "    <tr>\n",
              "      <th>0</th>\n",
              "      <td>Wii</td>\n",
              "      <td>Sports</td>\n",
              "      <td>82.53</td>\n",
              "      <td>76.0</td>\n",
              "      <td>51.0</td>\n",
              "      <td>8.0</td>\n",
              "      <td>NaN</td>\n",
              "      <td>Nintendo</td>\n",
              "    </tr>\n",
              "    <tr>\n",
              "      <th>1</th>\n",
              "      <td>NES</td>\n",
              "      <td>Platform</td>\n",
              "      <td>40.24</td>\n",
              "      <td>NaN</td>\n",
              "      <td>NaN</td>\n",
              "      <td>NaN</td>\n",
              "      <td>NaN</td>\n",
              "      <td>Nintendo</td>\n",
              "    </tr>\n",
              "    <tr>\n",
              "      <th>2</th>\n",
              "      <td>Wii</td>\n",
              "      <td>Racing</td>\n",
              "      <td>35.52</td>\n",
              "      <td>82.0</td>\n",
              "      <td>73.0</td>\n",
              "      <td>8.3</td>\n",
              "      <td>NaN</td>\n",
              "      <td>Nintendo</td>\n",
              "    </tr>\n",
              "    <tr>\n",
              "      <th>3</th>\n",
              "      <td>Wii</td>\n",
              "      <td>Sports</td>\n",
              "      <td>32.77</td>\n",
              "      <td>80.0</td>\n",
              "      <td>73.0</td>\n",
              "      <td>8.0</td>\n",
              "      <td>NaN</td>\n",
              "      <td>Nintendo</td>\n",
              "    </tr>\n",
              "    <tr>\n",
              "      <th>4</th>\n",
              "      <td>GB</td>\n",
              "      <td>Role-Playing</td>\n",
              "      <td>31.37</td>\n",
              "      <td>NaN</td>\n",
              "      <td>NaN</td>\n",
              "      <td>NaN</td>\n",
              "      <td>NaN</td>\n",
              "      <td>Nintendo</td>\n",
              "    </tr>\n",
              "    <tr>\n",
              "      <th>5</th>\n",
              "      <td>GB</td>\n",
              "      <td>Puzzle</td>\n",
              "      <td>30.26</td>\n",
              "      <td>NaN</td>\n",
              "      <td>NaN</td>\n",
              "      <td>NaN</td>\n",
              "      <td>NaN</td>\n",
              "      <td>Nintendo</td>\n",
              "    </tr>\n",
              "    <tr>\n",
              "      <th>6</th>\n",
              "      <td>DS</td>\n",
              "      <td>Platform</td>\n",
              "      <td>29.80</td>\n",
              "      <td>89.0</td>\n",
              "      <td>65.0</td>\n",
              "      <td>8.5</td>\n",
              "      <td>NaN</td>\n",
              "      <td>Nintendo</td>\n",
              "    </tr>\n",
              "    <tr>\n",
              "      <th>7</th>\n",
              "      <td>Wii</td>\n",
              "      <td>Misc</td>\n",
              "      <td>28.92</td>\n",
              "      <td>58.0</td>\n",
              "      <td>41.0</td>\n",
              "      <td>6.6</td>\n",
              "      <td>129.0</td>\n",
              "      <td>Nintendo</td>\n",
              "    </tr>\n",
              "    <tr>\n",
              "      <th>8</th>\n",
              "      <td>Wii</td>\n",
              "      <td>Platform</td>\n",
              "      <td>28.32</td>\n",
              "      <td>87.0</td>\n",
              "      <td>80.0</td>\n",
              "      <td>8.4</td>\n",
              "      <td>NaN</td>\n",
              "      <td>Nintendo</td>\n",
              "    </tr>\n",
              "    <tr>\n",
              "      <th>9</th>\n",
              "      <td>NES</td>\n",
              "      <td>Shooter</td>\n",
              "      <td>28.31</td>\n",
              "      <td>NaN</td>\n",
              "      <td>NaN</td>\n",
              "      <td>NaN</td>\n",
              "      <td>NaN</td>\n",
              "      <td>Nintendo</td>\n",
              "    </tr>\n",
              "    <tr>\n",
              "      <th>10</th>\n",
              "      <td>DS</td>\n",
              "      <td>Simulation</td>\n",
              "      <td>24.67</td>\n",
              "      <td>NaN</td>\n",
              "      <td>NaN</td>\n",
              "      <td>NaN</td>\n",
              "      <td>NaN</td>\n",
              "      <td>Nintendo</td>\n",
              "    </tr>\n",
              "    <tr>\n",
              "      <th>11</th>\n",
              "      <td>DS</td>\n",
              "      <td>Racing</td>\n",
              "      <td>23.21</td>\n",
              "      <td>91.0</td>\n",
              "      <td>64.0</td>\n",
              "      <td>8.6</td>\n",
              "      <td>NaN</td>\n",
              "      <td>Nintendo</td>\n",
              "    </tr>\n",
              "    <tr>\n",
              "      <th>12</th>\n",
              "      <td>GB</td>\n",
              "      <td>Role-Playing</td>\n",
              "      <td>23.10</td>\n",
              "      <td>NaN</td>\n",
              "      <td>NaN</td>\n",
              "      <td>NaN</td>\n",
              "      <td>NaN</td>\n",
              "      <td>Nintendo</td>\n",
              "    </tr>\n",
              "    <tr>\n",
              "      <th>13</th>\n",
              "      <td>Wii</td>\n",
              "      <td>Sports</td>\n",
              "      <td>22.70</td>\n",
              "      <td>80.0</td>\n",
              "      <td>63.0</td>\n",
              "      <td>7.7</td>\n",
              "      <td>146.0</td>\n",
              "      <td>Nintendo</td>\n",
              "    </tr>\n",
              "    <tr>\n",
              "      <th>14</th>\n",
              "      <td>X360</td>\n",
              "      <td>Misc</td>\n",
              "      <td>21.81</td>\n",
              "      <td>61.0</td>\n",
              "      <td>45.0</td>\n",
              "      <td>6.3</td>\n",
              "      <td>106.0</td>\n",
              "      <td>Good Science Studio</td>\n",
              "    </tr>\n",
              "    <tr>\n",
              "      <th>15</th>\n",
              "      <td>Wii</td>\n",
              "      <td>Sports</td>\n",
              "      <td>21.79</td>\n",
              "      <td>80.0</td>\n",
              "      <td>33.0</td>\n",
              "      <td>7.4</td>\n",
              "      <td>52.0</td>\n",
              "      <td>Nintendo</td>\n",
              "    </tr>\n",
              "    <tr>\n",
              "      <th>16</th>\n",
              "      <td>PS3</td>\n",
              "      <td>Action</td>\n",
              "      <td>21.04</td>\n",
              "      <td>97.0</td>\n",
              "      <td>50.0</td>\n",
              "      <td>8.2</td>\n",
              "      <td>NaN</td>\n",
              "      <td>Rockstar North</td>\n",
              "    </tr>\n",
              "    <tr>\n",
              "      <th>17</th>\n",
              "      <td>PS2</td>\n",
              "      <td>Action</td>\n",
              "      <td>20.81</td>\n",
              "      <td>95.0</td>\n",
              "      <td>80.0</td>\n",
              "      <td>9.0</td>\n",
              "      <td>NaN</td>\n",
              "      <td>Rockstar North</td>\n",
              "    </tr>\n",
              "    <tr>\n",
              "      <th>18</th>\n",
              "      <td>SNES</td>\n",
              "      <td>Platform</td>\n",
              "      <td>20.61</td>\n",
              "      <td>NaN</td>\n",
              "      <td>NaN</td>\n",
              "      <td>NaN</td>\n",
              "      <td>NaN</td>\n",
              "      <td>Nintendo</td>\n",
              "    </tr>\n",
              "    <tr>\n",
              "      <th>19</th>\n",
              "      <td>DS</td>\n",
              "      <td>Misc</td>\n",
              "      <td>20.15</td>\n",
              "      <td>77.0</td>\n",
              "      <td>58.0</td>\n",
              "      <td>7.9</td>\n",
              "      <td>50.0</td>\n",
              "      <td>Nintendo</td>\n",
              "    </tr>\n",
              "    <tr>\n",
              "      <th>20</th>\n",
              "      <td>DS</td>\n",
              "      <td>Role-Playing</td>\n",
              "      <td>18.25</td>\n",
              "      <td>NaN</td>\n",
              "      <td>NaN</td>\n",
              "      <td>NaN</td>\n",
              "      <td>NaN</td>\n",
              "      <td>Nintendo</td>\n",
              "    </tr>\n",
              "    <tr>\n",
              "      <th>21</th>\n",
              "      <td>GB</td>\n",
              "      <td>Platform</td>\n",
              "      <td>18.14</td>\n",
              "      <td>NaN</td>\n",
              "      <td>NaN</td>\n",
              "      <td>NaN</td>\n",
              "      <td>NaN</td>\n",
              "      <td>Nintendo</td>\n",
              "    </tr>\n",
              "    <tr>\n",
              "      <th>22</th>\n",
              "      <td>NES</td>\n",
              "      <td>Platform</td>\n",
              "      <td>17.28</td>\n",
              "      <td>NaN</td>\n",
              "      <td>NaN</td>\n",
              "      <td>NaN</td>\n",
              "      <td>NaN</td>\n",
              "      <td>Nintendo</td>\n",
              "    </tr>\n",
              "    <tr>\n",
              "      <th>23</th>\n",
              "      <td>X360</td>\n",
              "      <td>Action</td>\n",
              "      <td>16.27</td>\n",
              "      <td>97.0</td>\n",
              "      <td>58.0</td>\n",
              "      <td>8.1</td>\n",
              "      <td>NaN</td>\n",
              "      <td>Rockstar North</td>\n",
              "    </tr>\n",
              "    <tr>\n",
              "      <th>24</th>\n",
              "      <td>PS2</td>\n",
              "      <td>Action</td>\n",
              "      <td>16.15</td>\n",
              "      <td>95.0</td>\n",
              "      <td>62.0</td>\n",
              "      <td>8.7</td>\n",
              "      <td>NaN</td>\n",
              "      <td>Rockstar North</td>\n",
              "    </tr>\n",
              "    <tr>\n",
              "      <th>25</th>\n",
              "      <td>GBA</td>\n",
              "      <td>Role-Playing</td>\n",
              "      <td>15.85</td>\n",
              "      <td>NaN</td>\n",
              "      <td>NaN</td>\n",
              "      <td>NaN</td>\n",
              "      <td>NaN</td>\n",
              "      <td>Nintendo</td>\n",
              "    </tr>\n",
              "    <tr>\n",
              "      <th>26</th>\n",
              "      <td>DS</td>\n",
              "      <td>Puzzle</td>\n",
              "      <td>15.29</td>\n",
              "      <td>77.0</td>\n",
              "      <td>37.0</td>\n",
              "      <td>7.1</td>\n",
              "      <td>19.0</td>\n",
              "      <td>Nintendo</td>\n",
              "    </tr>\n",
              "    <tr>\n",
              "      <th>27</th>\n",
              "      <td>DS</td>\n",
              "      <td>Role-Playing</td>\n",
              "      <td>15.14</td>\n",
              "      <td>NaN</td>\n",
              "      <td>NaN</td>\n",
              "      <td>NaN</td>\n",
              "      <td>NaN</td>\n",
              "      <td>Nintendo</td>\n",
              "    </tr>\n",
              "    <tr>\n",
              "      <th>28</th>\n",
              "      <td>PS2</td>\n",
              "      <td>Racing</td>\n",
              "      <td>14.98</td>\n",
              "      <td>95.0</td>\n",
              "      <td>54.0</td>\n",
              "      <td>8.4</td>\n",
              "      <td>NaN</td>\n",
              "      <td>Polyphony Digital</td>\n",
              "    </tr>\n",
              "    <tr>\n",
              "      <th>29</th>\n",
              "      <td>X360</td>\n",
              "      <td>Shooter</td>\n",
              "      <td>14.73</td>\n",
              "      <td>88.0</td>\n",
              "      <td>81.0</td>\n",
              "      <td>3.4</td>\n",
              "      <td>NaN</td>\n",
              "      <td>Infinity Ward, Sledgehammer Games</td>\n",
              "    </tr>\n",
              "    <tr>\n",
              "      <th>30</th>\n",
              "      <td>GB</td>\n",
              "      <td>Role-Playing</td>\n",
              "      <td>14.64</td>\n",
              "      <td>NaN</td>\n",
              "      <td>NaN</td>\n",
              "      <td>NaN</td>\n",
              "      <td>NaN</td>\n",
              "      <td>Nintendo</td>\n",
              "    </tr>\n",
              "    <tr>\n",
              "      <th>31</th>\n",
              "      <td>PS4</td>\n",
              "      <td>Shooter</td>\n",
              "      <td>14.63</td>\n",
              "      <td>NaN</td>\n",
              "      <td>NaN</td>\n",
              "      <td>NaN</td>\n",
              "      <td>NaN</td>\n",
              "      <td>Activision</td>\n",
              "    </tr>\n",
              "    <tr>\n",
              "      <th>32</th>\n",
              "      <td>X360</td>\n",
              "      <td>Shooter</td>\n",
              "      <td>14.61</td>\n",
              "      <td>87.0</td>\n",
              "      <td>89.0</td>\n",
              "      <td>6.3</td>\n",
              "      <td>NaN</td>\n",
              "      <td>Treyarch</td>\n",
              "    </tr>\n",
              "    <tr>\n",
              "      <th>33</th>\n",
              "      <td>3DS</td>\n",
              "      <td>Role-Playing</td>\n",
              "      <td>14.60</td>\n",
              "      <td>NaN</td>\n",
              "      <td>NaN</td>\n",
              "      <td>NaN</td>\n",
              "      <td>NaN</td>\n",
              "      <td>Nintendo</td>\n",
              "    </tr>\n",
              "    <tr>\n",
              "      <th>34</th>\n",
              "      <td>PS3</td>\n",
              "      <td>Shooter</td>\n",
              "      <td>13.79</td>\n",
              "      <td>83.0</td>\n",
              "      <td>21.0</td>\n",
              "      <td>5.3</td>\n",
              "      <td>NaN</td>\n",
              "      <td>Treyarch</td>\n",
              "    </tr>\n",
              "    <tr>\n",
              "      <th>35</th>\n",
              "      <td>X360</td>\n",
              "      <td>Shooter</td>\n",
              "      <td>13.67</td>\n",
              "      <td>83.0</td>\n",
              "      <td>73.0</td>\n",
              "      <td>4.8</td>\n",
              "      <td>NaN</td>\n",
              "      <td>Treyarch</td>\n",
              "    </tr>\n",
              "    <tr>\n",
              "      <th>36</th>\n",
              "      <td>X360</td>\n",
              "      <td>Shooter</td>\n",
              "      <td>13.47</td>\n",
              "      <td>94.0</td>\n",
              "      <td>100.0</td>\n",
              "      <td>6.3</td>\n",
              "      <td>NaN</td>\n",
              "      <td>Infinity Ward</td>\n",
              "    </tr>\n",
              "    <tr>\n",
              "      <th>37</th>\n",
              "      <td>PS3</td>\n",
              "      <td>Shooter</td>\n",
              "      <td>13.32</td>\n",
              "      <td>88.0</td>\n",
              "      <td>39.0</td>\n",
              "      <td>3.2</td>\n",
              "      <td>NaN</td>\n",
              "      <td>Infinity Ward, Sledgehammer Games</td>\n",
              "    </tr>\n",
              "    <tr>\n",
              "      <th>38</th>\n",
              "      <td>PS2</td>\n",
              "      <td>Action</td>\n",
              "      <td>13.10</td>\n",
              "      <td>97.0</td>\n",
              "      <td>56.0</td>\n",
              "      <td>8.5</td>\n",
              "      <td>NaN</td>\n",
              "      <td>DMA Design</td>\n",
              "    </tr>\n",
              "    <tr>\n",
              "      <th>39</th>\n",
              "      <td>Wii</td>\n",
              "      <td>Fighting</td>\n",
              "      <td>12.84</td>\n",
              "      <td>93.0</td>\n",
              "      <td>81.0</td>\n",
              "      <td>8.9</td>\n",
              "      <td>NaN</td>\n",
              "      <td>Game Arts</td>\n",
              "    </tr>\n",
              "    <tr>\n",
              "      <th>40</th>\n",
              "      <td>3DS</td>\n",
              "      <td>Racing</td>\n",
              "      <td>12.66</td>\n",
              "      <td>85.0</td>\n",
              "      <td>73.0</td>\n",
              "      <td>8.2</td>\n",
              "      <td>NaN</td>\n",
              "      <td>Retro Studios, Entertainment Analysis &amp; Develo...</td>\n",
              "    </tr>\n",
              "    <tr>\n",
              "      <th>41</th>\n",
              "      <td>PS3</td>\n",
              "      <td>Shooter</td>\n",
              "      <td>12.63</td>\n",
              "      <td>88.0</td>\n",
              "      <td>58.0</td>\n",
              "      <td>6.4</td>\n",
              "      <td>NaN</td>\n",
              "      <td>Treyarch</td>\n",
              "    </tr>\n",
              "    <tr>\n",
              "      <th>42</th>\n",
              "      <td>PS4</td>\n",
              "      <td>Action</td>\n",
              "      <td>12.61</td>\n",
              "      <td>97.0</td>\n",
              "      <td>66.0</td>\n",
              "      <td>8.3</td>\n",
              "      <td>NaN</td>\n",
              "      <td>Rockstar North</td>\n",
              "    </tr>\n",
              "    <tr>\n",
              "      <th>43</th>\n",
              "      <td>DS</td>\n",
              "      <td>Simulation</td>\n",
              "      <td>12.13</td>\n",
              "      <td>86.0</td>\n",
              "      <td>57.0</td>\n",
              "      <td>8.7</td>\n",
              "      <td>NaN</td>\n",
              "      <td>Nintendo</td>\n",
              "    </tr>\n",
              "    <tr>\n",
              "      <th>44</th>\n",
              "      <td>X360</td>\n",
              "      <td>Shooter</td>\n",
              "      <td>12.12</td>\n",
              "      <td>94.0</td>\n",
              "      <td>86.0</td>\n",
              "      <td>7.8</td>\n",
              "      <td>NaN</td>\n",
              "      <td>Bungie Software, Bungie</td>\n",
              "    </tr>\n",
              "    <tr>\n",
              "      <th>45</th>\n",
              "      <td>N64</td>\n",
              "      <td>Platform</td>\n",
              "      <td>11.89</td>\n",
              "      <td>NaN</td>\n",
              "      <td>NaN</td>\n",
              "      <td>NaN</td>\n",
              "      <td>NaN</td>\n",
              "      <td>Nintendo</td>\n",
              "    </tr>\n",
              "    <tr>\n",
              "      <th>46</th>\n",
              "      <td>DS</td>\n",
              "      <td>Action</td>\n",
              "      <td>11.77</td>\n",
              "      <td>NaN</td>\n",
              "      <td>NaN</td>\n",
              "      <td>NaN</td>\n",
              "      <td>NaN</td>\n",
              "      <td>Nintendo</td>\n",
              "    </tr>\n",
              "    <tr>\n",
              "      <th>47</th>\n",
              "      <td>3DS</td>\n",
              "      <td>Role-Playing</td>\n",
              "      <td>11.68</td>\n",
              "      <td>NaN</td>\n",
              "      <td>NaN</td>\n",
              "      <td>NaN</td>\n",
              "      <td>NaN</td>\n",
              "      <td>Nintendo</td>\n",
              "    </tr>\n",
              "    <tr>\n",
              "      <th>48</th>\n",
              "      <td>PS2</td>\n",
              "      <td>Racing</td>\n",
              "      <td>11.66</td>\n",
              "      <td>89.0</td>\n",
              "      <td>74.0</td>\n",
              "      <td>8.5</td>\n",
              "      <td>NaN</td>\n",
              "      <td>Polyphony Digital</td>\n",
              "    </tr>\n",
              "    <tr>\n",
              "      <th>49</th>\n",
              "      <td>Wii</td>\n",
              "      <td>Platform</td>\n",
              "      <td>11.35</td>\n",
              "      <td>97.0</td>\n",
              "      <td>73.0</td>\n",
              "      <td>8.9</td>\n",
              "      <td>NaN</td>\n",
              "      <td>Nintendo</td>\n",
              "    </tr>\n",
              "  </tbody>\n",
              "</table>\n",
              "</div>"
            ],
            "text/plain": [
              "   Platform         Genre  Global_Sales  Critic_Score  Critic_Count  \\\n",
              "0       Wii        Sports         82.53          76.0          51.0   \n",
              "1       NES      Platform         40.24           NaN           NaN   \n",
              "2       Wii        Racing         35.52          82.0          73.0   \n",
              "3       Wii        Sports         32.77          80.0          73.0   \n",
              "4        GB  Role-Playing         31.37           NaN           NaN   \n",
              "5        GB        Puzzle         30.26           NaN           NaN   \n",
              "6        DS      Platform         29.80          89.0          65.0   \n",
              "7       Wii          Misc         28.92          58.0          41.0   \n",
              "8       Wii      Platform         28.32          87.0          80.0   \n",
              "9       NES       Shooter         28.31           NaN           NaN   \n",
              "10       DS    Simulation         24.67           NaN           NaN   \n",
              "11       DS        Racing         23.21          91.0          64.0   \n",
              "12       GB  Role-Playing         23.10           NaN           NaN   \n",
              "13      Wii        Sports         22.70          80.0          63.0   \n",
              "14     X360          Misc         21.81          61.0          45.0   \n",
              "15      Wii        Sports         21.79          80.0          33.0   \n",
              "16      PS3        Action         21.04          97.0          50.0   \n",
              "17      PS2        Action         20.81          95.0          80.0   \n",
              "18     SNES      Platform         20.61           NaN           NaN   \n",
              "19       DS          Misc         20.15          77.0          58.0   \n",
              "20       DS  Role-Playing         18.25           NaN           NaN   \n",
              "21       GB      Platform         18.14           NaN           NaN   \n",
              "22      NES      Platform         17.28           NaN           NaN   \n",
              "23     X360        Action         16.27          97.0          58.0   \n",
              "24      PS2        Action         16.15          95.0          62.0   \n",
              "25      GBA  Role-Playing         15.85           NaN           NaN   \n",
              "26       DS        Puzzle         15.29          77.0          37.0   \n",
              "27       DS  Role-Playing         15.14           NaN           NaN   \n",
              "28      PS2        Racing         14.98          95.0          54.0   \n",
              "29     X360       Shooter         14.73          88.0          81.0   \n",
              "30       GB  Role-Playing         14.64           NaN           NaN   \n",
              "31      PS4       Shooter         14.63           NaN           NaN   \n",
              "32     X360       Shooter         14.61          87.0          89.0   \n",
              "33      3DS  Role-Playing         14.60           NaN           NaN   \n",
              "34      PS3       Shooter         13.79          83.0          21.0   \n",
              "35     X360       Shooter         13.67          83.0          73.0   \n",
              "36     X360       Shooter         13.47          94.0         100.0   \n",
              "37      PS3       Shooter         13.32          88.0          39.0   \n",
              "38      PS2        Action         13.10          97.0          56.0   \n",
              "39      Wii      Fighting         12.84          93.0          81.0   \n",
              "40      3DS        Racing         12.66          85.0          73.0   \n",
              "41      PS3       Shooter         12.63          88.0          58.0   \n",
              "42      PS4        Action         12.61          97.0          66.0   \n",
              "43       DS    Simulation         12.13          86.0          57.0   \n",
              "44     X360       Shooter         12.12          94.0          86.0   \n",
              "45      N64      Platform         11.89           NaN           NaN   \n",
              "46       DS        Action         11.77           NaN           NaN   \n",
              "47      3DS  Role-Playing         11.68           NaN           NaN   \n",
              "48      PS2        Racing         11.66          89.0          74.0   \n",
              "49      Wii      Platform         11.35          97.0          73.0   \n",
              "\n",
              "    User_Score  User_Count                                          Developer  \n",
              "0          8.0         NaN                                           Nintendo  \n",
              "1          NaN         NaN                                           Nintendo  \n",
              "2          8.3         NaN                                           Nintendo  \n",
              "3          8.0         NaN                                           Nintendo  \n",
              "4          NaN         NaN                                           Nintendo  \n",
              "5          NaN         NaN                                           Nintendo  \n",
              "6          8.5         NaN                                           Nintendo  \n",
              "7          6.6       129.0                                           Nintendo  \n",
              "8          8.4         NaN                                           Nintendo  \n",
              "9          NaN         NaN                                           Nintendo  \n",
              "10         NaN         NaN                                           Nintendo  \n",
              "11         8.6         NaN                                           Nintendo  \n",
              "12         NaN         NaN                                           Nintendo  \n",
              "13         7.7       146.0                                           Nintendo  \n",
              "14         6.3       106.0                                Good Science Studio  \n",
              "15         7.4        52.0                                           Nintendo  \n",
              "16         8.2         NaN                                     Rockstar North  \n",
              "17         9.0         NaN                                     Rockstar North  \n",
              "18         NaN         NaN                                           Nintendo  \n",
              "19         7.9        50.0                                           Nintendo  \n",
              "20         NaN         NaN                                           Nintendo  \n",
              "21         NaN         NaN                                           Nintendo  \n",
              "22         NaN         NaN                                           Nintendo  \n",
              "23         8.1         NaN                                     Rockstar North  \n",
              "24         8.7         NaN                                     Rockstar North  \n",
              "25         NaN         NaN                                           Nintendo  \n",
              "26         7.1        19.0                                           Nintendo  \n",
              "27         NaN         NaN                                           Nintendo  \n",
              "28         8.4         NaN                                  Polyphony Digital  \n",
              "29         3.4         NaN                  Infinity Ward, Sledgehammer Games  \n",
              "30         NaN         NaN                                           Nintendo  \n",
              "31         NaN         NaN                                         Activision  \n",
              "32         6.3         NaN                                           Treyarch  \n",
              "33         NaN         NaN                                           Nintendo  \n",
              "34         5.3         NaN                                           Treyarch  \n",
              "35         4.8         NaN                                           Treyarch  \n",
              "36         6.3         NaN                                      Infinity Ward  \n",
              "37         3.2         NaN                  Infinity Ward, Sledgehammer Games  \n",
              "38         8.5         NaN                                         DMA Design  \n",
              "39         8.9         NaN                                          Game Arts  \n",
              "40         8.2         NaN  Retro Studios, Entertainment Analysis & Develo...  \n",
              "41         6.4         NaN                                           Treyarch  \n",
              "42         8.3         NaN                                     Rockstar North  \n",
              "43         8.7         NaN                                           Nintendo  \n",
              "44         7.8         NaN                            Bungie Software, Bungie  \n",
              "45         NaN         NaN                                           Nintendo  \n",
              "46         NaN         NaN                                           Nintendo  \n",
              "47         NaN         NaN                                           Nintendo  \n",
              "48         8.5         NaN                                  Polyphony Digital  \n",
              "49         8.9         NaN                                           Nintendo  "
            ]
          },
          "execution_count": 45,
          "metadata": {},
          "output_type": "execute_result"
        }
      ],
      "source": [
        "# Creamos un nuevo dataframe con las columnas que se quieren analizar.\n",
        "selected_columns = df_fix[[\n",
        "    'Platform',\n",
        "    'Genre',\n",
        "    'Global_Sales',\n",
        "    'Critic_Score',\n",
        "    'Critic_Count',\n",
        "    'User_Score',\n",
        "    'User_Count',\n",
        "    'Developer'\n",
        "]]\n",
        "selected_columns.head(50) # Imprimimos los primeros cincuenta registros."
      ]
    },
    {
      "cell_type": "markdown",
      "metadata": {
        "id": "K84JE_pkUpb8"
      },
      "source": [
        "Viendo estos primeros cincuenta elementos podemos vislumbrar cierta relación entre los puntajes, el género y, en menor medida, la casa desarrolladora. Podemos descartar una relación entre los puntajes y la plataforma pues para la misma plataforma hay puntajes muy distintos. Por otro lado los puntajes de la crítica y los puntajes de los usuarios parace estar muy parejo entre sí, y ninguno de los dos pareciera relacionarse con el número de ventas. Confirmemos esto último con una tabla de correlación."
      ]
    },
    {
      "cell_type": "code",
      "execution_count": 46,
      "metadata": {
        "id": "YVKn0_HbUpb8",
        "outputId": "f37561ee-5893-4d65-c977-da4cd7eb866e"
      },
      "outputs": [
        {
          "data": {
            "text/html": [
              "<div>\n",
              "<style scoped>\n",
              "    .dataframe tbody tr th:only-of-type {\n",
              "        vertical-align: middle;\n",
              "    }\n",
              "\n",
              "    .dataframe tbody tr th {\n",
              "        vertical-align: top;\n",
              "    }\n",
              "\n",
              "    .dataframe thead th {\n",
              "        text-align: right;\n",
              "    }\n",
              "</style>\n",
              "<table border=\"1\" class=\"dataframe\">\n",
              "  <thead>\n",
              "    <tr style=\"text-align: right;\">\n",
              "      <th></th>\n",
              "      <th>Global_Sales</th>\n",
              "      <th>Critic_Score</th>\n",
              "      <th>Critic_Count</th>\n",
              "      <th>User_Score</th>\n",
              "      <th>User_Count</th>\n",
              "    </tr>\n",
              "  </thead>\n",
              "  <tbody>\n",
              "    <tr>\n",
              "      <th>Global_Sales</th>\n",
              "      <td>1.000000</td>\n",
              "      <td>0.245471</td>\n",
              "      <td>0.303571</td>\n",
              "      <td>0.088139</td>\n",
              "      <td>0.259132</td>\n",
              "    </tr>\n",
              "    <tr>\n",
              "      <th>Critic_Score</th>\n",
              "      <td>0.245471</td>\n",
              "      <td>1.000000</td>\n",
              "      <td>0.425504</td>\n",
              "      <td>0.580878</td>\n",
              "      <td>0.299106</td>\n",
              "    </tr>\n",
              "    <tr>\n",
              "      <th>Critic_Count</th>\n",
              "      <td>0.303571</td>\n",
              "      <td>0.425504</td>\n",
              "      <td>1.000000</td>\n",
              "      <td>0.194133</td>\n",
              "      <td>0.487344</td>\n",
              "    </tr>\n",
              "    <tr>\n",
              "      <th>User_Score</th>\n",
              "      <td>0.088139</td>\n",
              "      <td>0.580878</td>\n",
              "      <td>0.194133</td>\n",
              "      <td>1.000000</td>\n",
              "      <td>0.117115</td>\n",
              "    </tr>\n",
              "    <tr>\n",
              "      <th>User_Count</th>\n",
              "      <td>0.259132</td>\n",
              "      <td>0.299106</td>\n",
              "      <td>0.487344</td>\n",
              "      <td>0.117115</td>\n",
              "      <td>1.000000</td>\n",
              "    </tr>\n",
              "  </tbody>\n",
              "</table>\n",
              "</div>"
            ],
            "text/plain": [
              "              Global_Sales  Critic_Score  Critic_Count  User_Score  User_Count\n",
              "Global_Sales      1.000000      0.245471      0.303571    0.088139    0.259132\n",
              "Critic_Score      0.245471      1.000000      0.425504    0.580878    0.299106\n",
              "Critic_Count      0.303571      0.425504      1.000000    0.194133    0.487344\n",
              "User_Score        0.088139      0.580878      0.194133    1.000000    0.117115\n",
              "User_Count        0.259132      0.299106      0.487344    0.117115    1.000000"
            ]
          },
          "execution_count": 46,
          "metadata": {},
          "output_type": "execute_result"
        }
      ],
      "source": [
        "# Construimos un dataframe con las columnas numéricas que deseamos correlacionar\n",
        "numeric_columns = selected_columns[['Global_Sales', 'Critic_Score', 'Critic_Count', 'User_Score', 'User_Count']]\n",
        "numeric_columns.corr()"
      ]
    },
    {
      "cell_type": "markdown",
      "metadata": {
        "id": "W-O66ZNwUpb8"
      },
      "source": [
        "Esta tabla de correlación nos está mostrando una relación muy pequeña entre los datos de las columnas a mejorar y la columna *Global_Sales*. Después de este análisis pareciera que lo mejor es tratar de obtener la distribución de datos de cada columna *Critic_Score*, *Critic_Count*, *User_Score* y *User_Count* por cada género de videojuego. Comencemos por tener un conjunto de los valores de género disponibles."
      ]
    },
    {
      "cell_type": "code",
      "execution_count": 47,
      "metadata": {
        "id": "wLUQOLUoUpb8",
        "outputId": "cb0f1c67-d3a3-46bb-9d61-e0c6d688b370"
      },
      "outputs": [
        {
          "data": {
            "text/plain": [
              "array(['Sports', 'Platform', 'Racing', 'Role-Playing', 'Puzzle', 'Misc',\n",
              "       'Shooter', 'Simulation', 'Action', 'Fighting', 'Adventure',\n",
              "       'Strategy'], dtype=object)"
            ]
          },
          "execution_count": 47,
          "metadata": {},
          "output_type": "execute_result"
        }
      ],
      "source": [
        "# Usamos el método unique() para obtener los valores únicos de la columna.\n",
        "genres = selected_columns['Genre'].unique()\n",
        "genres"
      ]
    },
    {
      "cell_type": "markdown",
      "metadata": {
        "id": "Zi2wkdt2Upb9"
      },
      "source": [
        "Realicemos ahora una prueba con uno de los géneros para ver las distribuciones de, por ejemplo, la columna *Critic_Score*."
      ]
    },
    {
      "cell_type": "code",
      "execution_count": 48,
      "metadata": {
        "id": "Jxdj0g3pUpb-",
        "outputId": "1b50d62e-f7e5-496c-8be5-706c2e35caac"
      },
      "outputs": [
        {
          "data": {
            "image/png": "[encoded data removed]",
            "text/plain": [
              "<Figure size 640x480 with 1 Axes>"
            ]
          },
          "metadata": {},
          "output_type": "display_data"
        }
      ],
      "source": [
        "# Elegimos los datos de la columna deseada filtrándolos por el género.\n",
        "genre_records = selected_columns.loc[selected_columns['Genre'] == 'Action'].dropna()\n",
        "\n",
        "# Verificamos la distribución por medio de una gráfica de histograma.\n",
        "plt.hist(genre_records['Critic_Score'])\n",
        "plt.show()"
      ]
    },
    {
      "cell_type": "markdown",
      "metadata": {
        "id": "Y4tabmEOUpb-"
      },
      "source": [
        "Esta prueba pareciera dar una forma de campana mucho más definida, pero al estar un poco desviada seguimos optando por la mediana. Si hacemos pruebas cambiando tanto los géneros como las columnas los resultados van a ser muy parecidos. En ese sentido podemos probar por calcular la mediana de cada columna por género y tratar de imputar los valores nulos de cada columna con la mediana, también por género. Esto se debe hacer sobre el dataframe *df_fix*."
      ]
    },
    {
      "cell_type": "code",
      "execution_count": 49,
      "metadata": {
        "id": "_C6RcWzXUpb-",
        "outputId": "fb046c2a-e2cd-4a29-9054-cb77c9e80d49"
      },
      "outputs": [
        {
          "data": {
            "text/plain": [
              "Name               0\n",
              "Platform           0\n",
              "Year_of_Release    0\n",
              "Genre              0\n",
              "Publisher          0\n",
              "NA_Sales           0\n",
              "EU_Sales           0\n",
              "JP_Sales           0\n",
              "Other_Sales        0\n",
              "Global_Sales       0\n",
              "Critic_Score       0\n",
              "Critic_Count       0\n",
              "User_Score         0\n",
              "User_Count         0\n",
              "Developer          0\n",
              "Rating             0\n",
              "dtype: int64"
            ]
          },
          "execution_count": 49,
          "metadata": {},
          "output_type": "execute_result"
        }
      ],
      "source": [
        "for i in range(len(genres)):\n",
        "    genre = genres[i]\n",
        "    g_condition = df_fix['Genre'] == genre\n",
        "\n",
        "    # Obtenemos los registros pertenecientes a un género.\n",
        "    genre_dataset = df_fix.loc[g_condition]\n",
        "\n",
        "    # Calcular la mediana de cada columna para el género seleccionado.\n",
        "    gcs_median = genre_dataset['Critic_Score'].median()\n",
        "    gcc_median = genre_dataset['Critic_Count'].median()\n",
        "    gus_median = genre_dataset['User_Score'].median()\n",
        "    guc_median = genre_dataset['User_Count'].median()\n",
        "\n",
        "    # Imputar los valores nulos de cada columna para el género seleccionado.\n",
        "    df_fix.loc[g_condition, 'Critic_Score'] = df_fix['Critic_Score'].fillna(gcs_median)\n",
        "    df_fix.loc[g_condition, 'Critic_Count'] = df_fix['Critic_Count'].fillna(gcc_median)\n",
        "    df_fix.loc[g_condition, 'User_Score'] = df_fix['User_Score'].fillna(gus_median)\n",
        "    df_fix.loc[g_condition, 'User_Count'] = df_fix['User_Count'].fillna(guc_median)\n",
        "\n",
        "df_fix.isna().sum()"
      ]
    },
    {
      "cell_type": "markdown",
      "metadata": {
        "id": "vvZgVepnUpb_"
      },
      "source": [
        "Hemos conseguido nuevamente reemplazar todos los valores nulos del dataset. Veamos ahora los datos estadísticos de las columnas numéricas."
      ]
    },
    {
      "cell_type": "code",
      "execution_count": 50,
      "metadata": {
        "id": "99nd0IF5Upb_",
        "outputId": "89b6aff4-5581-4487-9b9b-c480b0f6050f"
      },
      "outputs": [
        {
          "data": {
            "text/html": [
              "<div>\n",
              "<style scoped>\n",
              "    .dataframe tbody tr th:only-of-type {\n",
              "        vertical-align: middle;\n",
              "    }\n",
              "\n",
              "    .dataframe tbody tr th {\n",
              "        vertical-align: top;\n",
              "    }\n",
              "\n",
              "    .dataframe thead th {\n",
              "        text-align: right;\n",
              "    }\n",
              "</style>\n",
              "<table border=\"1\" class=\"dataframe\">\n",
              "  <thead>\n",
              "    <tr style=\"text-align: right;\">\n",
              "      <th></th>\n",
              "      <th>count</th>\n",
              "      <th>mean</th>\n",
              "      <th>std</th>\n",
              "      <th>min</th>\n",
              "      <th>25%</th>\n",
              "      <th>50%</th>\n",
              "      <th>75%</th>\n",
              "      <th>max</th>\n",
              "    </tr>\n",
              "  </thead>\n",
              "  <tbody>\n",
              "    <tr>\n",
              "      <th>Year_of_Release</th>\n",
              "      <td>16717.0</td>\n",
              "      <td>2135.099719</td>\n",
              "      <td>1005.721828</td>\n",
              "      <td>1980.00</td>\n",
              "      <td>2003.00</td>\n",
              "      <td>2008.00</td>\n",
              "      <td>2011.00</td>\n",
              "      <td>9999.00</td>\n",
              "    </tr>\n",
              "    <tr>\n",
              "      <th>NA_Sales</th>\n",
              "      <td>16717.0</td>\n",
              "      <td>0.263255</td>\n",
              "      <td>0.813475</td>\n",
              "      <td>0.00</td>\n",
              "      <td>0.00</td>\n",
              "      <td>0.08</td>\n",
              "      <td>0.24</td>\n",
              "      <td>41.36</td>\n",
              "    </tr>\n",
              "    <tr>\n",
              "      <th>EU_Sales</th>\n",
              "      <td>16717.0</td>\n",
              "      <td>0.145010</td>\n",
              "      <td>0.503303</td>\n",
              "      <td>0.00</td>\n",
              "      <td>0.00</td>\n",
              "      <td>0.02</td>\n",
              "      <td>0.11</td>\n",
              "      <td>28.96</td>\n",
              "    </tr>\n",
              "    <tr>\n",
              "      <th>JP_Sales</th>\n",
              "      <td>16717.0</td>\n",
              "      <td>0.077610</td>\n",
              "      <td>0.308836</td>\n",
              "      <td>0.00</td>\n",
              "      <td>0.00</td>\n",
              "      <td>0.00</td>\n",
              "      <td>0.04</td>\n",
              "      <td>10.22</td>\n",
              "    </tr>\n",
              "    <tr>\n",
              "      <th>Other_Sales</th>\n",
              "      <td>16717.0</td>\n",
              "      <td>0.047333</td>\n",
              "      <td>0.186721</td>\n",
              "      <td>0.00</td>\n",
              "      <td>0.00</td>\n",
              "      <td>0.01</td>\n",
              "      <td>0.03</td>\n",
              "      <td>10.57</td>\n",
              "    </tr>\n",
              "    <tr>\n",
              "      <th>Global_Sales</th>\n",
              "      <td>16717.0</td>\n",
              "      <td>0.533462</td>\n",
              "      <td>1.547956</td>\n",
              "      <td>0.01</td>\n",
              "      <td>0.06</td>\n",
              "      <td>0.17</td>\n",
              "      <td>0.47</td>\n",
              "      <td>82.53</td>\n",
              "    </tr>\n",
              "    <tr>\n",
              "      <th>Critic_Score</th>\n",
              "      <td>16717.0</td>\n",
              "      <td>69.675600</td>\n",
              "      <td>9.967931</td>\n",
              "      <td>13.00</td>\n",
              "      <td>67.00</td>\n",
              "      <td>70.00</td>\n",
              "      <td>75.00</td>\n",
              "      <td>98.00</td>\n",
              "    </tr>\n",
              "    <tr>\n",
              "      <th>Critic_Count</th>\n",
              "      <td>16717.0</td>\n",
              "      <td>23.319106</td>\n",
              "      <td>14.011490</td>\n",
              "      <td>3.00</td>\n",
              "      <td>17.00</td>\n",
              "      <td>18.00</td>\n",
              "      <td>28.00</td>\n",
              "      <td>113.00</td>\n",
              "    </tr>\n",
              "    <tr>\n",
              "      <th>User_Score</th>\n",
              "      <td>16717.0</td>\n",
              "      <td>7.310163</td>\n",
              "      <td>1.035452</td>\n",
              "      <td>0.00</td>\n",
              "      <td>7.10</td>\n",
              "      <td>7.40</td>\n",
              "      <td>7.80</td>\n",
              "      <td>9.70</td>\n",
              "    </tr>\n",
              "    <tr>\n",
              "      <th>User_Count</th>\n",
              "      <td>16717.0</td>\n",
              "      <td>25.142609</td>\n",
              "      <td>26.007120</td>\n",
              "      <td>4.00</td>\n",
              "      <td>13.00</td>\n",
              "      <td>18.00</td>\n",
              "      <td>26.00</td>\n",
              "      <td>187.00</td>\n",
              "    </tr>\n",
              "  </tbody>\n",
              "</table>\n",
              "</div>"
            ],
            "text/plain": [
              "                   count         mean          std      min      25%      50%  \\\n",
              "Year_of_Release  16717.0  2135.099719  1005.721828  1980.00  2003.00  2008.00   \n",
              "NA_Sales         16717.0     0.263255     0.813475     0.00     0.00     0.08   \n",
              "EU_Sales         16717.0     0.145010     0.503303     0.00     0.00     0.02   \n",
              "JP_Sales         16717.0     0.077610     0.308836     0.00     0.00     0.00   \n",
              "Other_Sales      16717.0     0.047333     0.186721     0.00     0.00     0.01   \n",
              "Global_Sales     16717.0     0.533462     1.547956     0.01     0.06     0.17   \n",
              "Critic_Score     16717.0    69.675600     9.967931    13.00    67.00    70.00   \n",
              "Critic_Count     16717.0    23.319106    14.011490     3.00    17.00    18.00   \n",
              "User_Score       16717.0     7.310163     1.035452     0.00     7.10     7.40   \n",
              "User_Count       16717.0    25.142609    26.007120     4.00    13.00    18.00   \n",
              "\n",
              "                     75%      max  \n",
              "Year_of_Release  2011.00  9999.00  \n",
              "NA_Sales            0.24    41.36  \n",
              "EU_Sales            0.11    28.96  \n",
              "JP_Sales            0.04    10.22  \n",
              "Other_Sales         0.03    10.57  \n",
              "Global_Sales        0.47    82.53  \n",
              "Critic_Score       75.00    98.00  \n",
              "Critic_Count       28.00   113.00  \n",
              "User_Score          7.80     9.70  \n",
              "User_Count         26.00   187.00  "
            ]
          },
          "execution_count": 50,
          "metadata": {},
          "output_type": "execute_result"
        }
      ],
      "source": [
        "# Usamos el método describe para obtener datos estadísticos de las columnas numéricas del dataframe.\n",
        "df_fix.describe().T"
      ]
    },
    {
      "cell_type": "markdown",
      "metadata": {
        "id": "w-9y_P12Upb_"
      },
      "source": [
        "Estos resultados parecen tener un poco más sentido. Visualicemos las columnas mejoradas en gráficas de caja y bigotes."
      ]
    },
    {
      "cell_type": "code",
      "execution_count": 51,
      "metadata": {
        "id": "Lao-wB9SUpb_",
        "outputId": "0d162291-63ea-4a6c-cdbe-c9b03b7fe0fe",
        "scrolled": true
      },
      "outputs": [
        {
          "data": {
            "image/png": "[encoded data removed]",
            "text/plain": [
              "<Figure size 640x480 with 1 Axes>"
            ]
          },
          "metadata": {},
          "output_type": "display_data"
        }
      ],
      "source": [
        "# Visualizamos las columnas usando una gráfica de cajas y bigotes.\n",
        "plt.boxplot([df_fix['Critic_Score'], df_fix['Critic_Count'], df_fix['User_Score'], df_fix['User_Count']])\n",
        "plt.show()"
      ]
    },
    {
      "cell_type": "markdown",
      "metadata": {
        "id": "OPHQrjK_UpcA"
      },
      "source": [
        "Podemos observar una mejora con respecto a la gráfica anterior donde prácticamente no existían cajas ni bigotes. Aun así seguimos viendo valores atípicos. Esto ocurre porque en realidad no hicimos manejo de los valores atípicos que habíamos detectado con la gráfica anterior. Lo que hicimos fue ajustar los datos, en especial los valores nulos, para poder ver con más claridad el rango de distribución de los datos. Si analizamos de manera detallada, los valores atípicos que vemos aquí son prácticamente los mismos que vimos anteriormente. Esto es algo bueno, pues significa que al hacer la imputación de los datos no generamos valores atípicos nuevos (Esto también se puede observar en la tabla de estadísticas de las columnas numéricas). En este punto el dataset está prácticamente limpio.\n",
        "\n",
        "**Nota**: al comparar con el dataset original, sí se generaron algunos valores atípicos pequeños, lo que es normal al momento de realizar imputación de datos. A pesar de esto hubo mejoras también con respecto dicho dataset (ver el caso de la columna *User_Count*)."
      ]
    },
    {
      "cell_type": "markdown",
      "metadata": {
        "id": "P8CPvx2FUpcA"
      },
      "source": [
        "### Ajustes finales\n",
        "\n",
        "Todas las columnas de tipo númerico son específicmente del tipo float, pero si analizamos no todas tienen que ser de dicho tipo. Algunas columnas como *Critic_Count* y *User_Count* que representan conteos podrían ser del tipo entero, que ocupa menos espacio en memoria y disco duro del dispositivo. Por otro lado la columna *Year_of_Release* debería ser de tipo categórico, por lo que la podríamos tranformar a tipo object (string o texto). Pero antes podríamos pasarla al tipo entero también para remover los decimales de los años. Hagamos todas estas transformaciones."
      ]
    },
    {
      "cell_type": "code",
      "execution_count": 52,
      "metadata": {
        "id": "igYOsGEEUpcA",
        "outputId": "fa166ae2-8917-4d93-99f4-98d1515a8a05"
      },
      "outputs": [
        {
          "name": "stdout",
          "output_type": "stream",
          "text": [
            "<class 'pandas.core.frame.DataFrame'>\n",
            "RangeIndex: 16717 entries, 0 to 16716\n",
            "Data columns (total 16 columns):\n",
            " #   Column           Non-Null Count  Dtype  \n",
            "---  ------           --------------  -----  \n",
            " 0   Name             16717 non-null  object \n",
            " 1   Platform         16717 non-null  object \n",
            " 2   Year_of_Release  16717 non-null  object \n",
            " 3   Genre            16717 non-null  object \n",
            " 4   Publisher        16717 non-null  object \n",
            " 5   NA_Sales         16717 non-null  float64\n",
            " 6   EU_Sales         16717 non-null  float64\n",
            " 7   JP_Sales         16717 non-null  float64\n",
            " 8   Other_Sales      16717 non-null  float64\n",
            " 9   Global_Sales     16717 non-null  float64\n",
            " 10  Critic_Score     16717 non-null  float64\n",
            " 11  Critic_Count     16717 non-null  int64  \n",
            " 12  User_Score       16717 non-null  float64\n",
            " 13  User_Count       16717 non-null  int64  \n",
            " 14  Developer        16717 non-null  object \n",
            " 15  Rating           16717 non-null  object \n",
            "dtypes: float64(7), int64(2), object(7)\n",
            "memory usage: 2.0+ MB\n"
          ]
        }
      ],
      "source": [
        "# Aplicamos el cambio usando el método apply() y en el caso en el que se debe transformar de float a int utilizamos el tipo\n",
        "# int64 perteneciente a numpy.\n",
        "df_fix['Critic_Count'] = df_fix['Critic_Count'].apply(np.int64)\n",
        "df_fix['User_Count'] = df_fix['User_Count'].apply(np.int64)\n",
        "df_fix['Year_of_Release'] = df_fix['Year_of_Release'].apply(np.int64)\n",
        "\n",
        "# Aplicamos el método apply() junto al tipo de dato str para pasar la columna de float a string.\n",
        "df_fix['Year_of_Release'] = df_fix['Year_of_Release'].apply(str)\n",
        "\n",
        "# Verificamos los tipos de las columnas.\n",
        "df_fix.info()"
      ]
    },
    {
      "cell_type": "markdown",
      "metadata": {
        "id": "AokMRslnUpcA"
      },
      "source": [
        "### Exportar dataset\n",
        "\n",
        "Por último, cuando ya terminemos el proceso de análisis y limpieza sobre el dataset podemos proceder a exportarlo para usarlo en futuros proyectos de análisis de datos, visualización de datos o Machine Learning."
      ]
    },
    {
      "cell_type": "code",
      "execution_count": 53,
      "metadata": {
        "id": "xtBis1aVUpcB"
      },
      "outputs": [],
      "source": [
        "# Usamos el método to_csv() para exportar el dataset.\n",
        "df_fix.to_csv('videogame_sales_with_ratings_cleaned.csv', index=False)"
      ]
    }
  ],
  "metadata": {
    "colab": {
      "provenance": []
    },
    "kernelspec": {
      "display_name": "Python 3",
      "language": "python",
      "name": "python3"
    },
    "language_info": {
      "codemirror_mode": {
        "name": "ipython",
        "version": 3
      },
      "file_extension": ".py",
      "mimetype": "text/x-python",
      "name": "python",
      "nbconvert_exporter": "python",
      "pygments_lexer": "ipython3",
      "version": "3.12.10"
    }
  },
  "nbformat": 4,
  "nbformat_minor": 0
}
