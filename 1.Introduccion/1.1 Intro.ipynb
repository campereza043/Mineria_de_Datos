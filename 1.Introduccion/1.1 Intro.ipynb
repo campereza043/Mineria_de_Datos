{
 "cells": [
  {
   "cell_type": "markdown",
   "id": "f94a86c5",
   "metadata": {},
   "source": [
    "# Tutorial básico de Python\n",
    "Este cuaderno cubre los conceptos más básicos de Python, desde variables y tipos de datos hasta programación orientada a objetos (POO)."
   ]
  },
  {
   "cell_type": "markdown",
   "id": "fbfd1a59",
   "metadata": {},
   "source": [
    "## Variables y tipos de datos\n",
    "En Python no es necesario declarar el tipo de variable."
   ]
  },
  {
   "cell_type": "code",
   "execution_count": 2,
   "id": "fd84cdb8",
   "metadata": {},
   "outputs": [
    {
     "name": "stdout",
     "output_type": "stream",
     "text": [
      "5 Ana 3.14 True\n"
     ]
    }
   ],
   "source": [
    "x = 5  # entero\n",
    "nombre = \"Ana\"  # cadena de texto\n",
    "pi = 3.14  # flotante\n",
    "es_estudiante = True  # booleano\n",
    "print(x, nombre, pi, es_estudiante)"
   ]
  },
  {
   "cell_type": "markdown",
   "id": "b3ba9682",
   "metadata": {},
   "source": [
    "## Operaciones básicas\n",
    "Puedes hacer operaciones matemáticas básicas con los operadores `+`, `-`, `*`, `/`, `//`, `%`, `**`."
   ]
  },
  {
   "cell_type": "code",
   "execution_count": 3,
   "id": "cfcd2754",
   "metadata": {},
   "outputs": [
    {
     "name": "stdout",
     "output_type": "stream",
     "text": [
      "Suma: 13\n",
      "Resta: 7\n",
      "Multiplicación: 30\n",
      "División: 3.3333333333333335\n",
      "División entera: 3\n",
      "Módulo: 1\n",
      "Potencia: 1000\n"
     ]
    }
   ],
   "source": [
    "a = 10\n",
    "b = 3\n",
    "print(\"Suma:\", a + b)\n",
    "print(\"Resta:\", a - b)\n",
    "print(\"Multiplicación:\", a * b)\n",
    "print(\"División:\", a / b)\n",
    "print(\"División entera:\", a // b)\n",
    "print(\"Módulo:\", a % b)\n",
    "print(\"Potencia:\", a ** b)"
   ]
  },
  {
   "cell_type": "markdown",
   "id": "2bebffc9",
   "metadata": {},
   "source": [
    "## Estructuras de control\n",
    "Usamos `if`, `elif`, y `else` para tomar decisiones."
   ]
  },
  {
   "cell_type": "code",
   "execution_count": 4,
   "id": "4c99af35",
   "metadata": {},
   "outputs": [
    {
     "name": "stdout",
     "output_type": "stream",
     "text": [
      "Justo 18\n"
     ]
    }
   ],
   "source": [
    "edad = 18\n",
    "if edad < 18:\n",
    "    print(\"Menor de edad\")\n",
    "elif edad == 18:\n",
    "    print(\"Justo 18\")\n",
    "else:\n",
    "    print(\"Mayor de edad\")"
   ]
  },
  {
   "cell_type": "markdown",
   "id": "2e44296e",
   "metadata": {},
   "source": [
    "## Bucles\n",
    "`for` y `while` permiten ejecutar instrucciones múltiples veces."
   ]
  },
  {
   "cell_type": "code",
   "execution_count": 5,
   "id": "30b949f0",
   "metadata": {},
   "outputs": [
    {
     "name": "stdout",
     "output_type": "stream",
     "text": [
      "Número: 0\n",
      "Número: 1\n",
      "Número: 2\n",
      "Número: 3\n",
      "Número: 4\n"
     ]
    }
   ],
   "source": [
    "# Bucle for\n",
    "for i in range(5):\n",
    "    print(\"Número:\", i)"
   ]
  },
  {
   "cell_type": "code",
   "execution_count": 6,
   "id": "7c555b6e",
   "metadata": {},
   "outputs": [
    {
     "name": "stdout",
     "output_type": "stream",
     "text": [
      "n vale: 0\n",
      "n vale: 1\n",
      "n vale: 2\n"
     ]
    }
   ],
   "source": [
    "# Bucle while\n",
    "n = 0\n",
    "while n < 3:\n",
    "    print(\"n vale:\", n)\n",
    "    n += 1"
   ]
  },
  {
   "cell_type": "markdown",
   "id": "e0cc0103",
   "metadata": {},
   "source": [
    "## Funciones\n",
    "Las funciones permiten reutilizar código."
   ]
  },
  {
   "cell_type": "code",
   "execution_count": 7,
   "id": "a584ed6e",
   "metadata": {},
   "outputs": [
    {
     "name": "stdout",
     "output_type": "stream",
     "text": [
      "Hola, Carlos!\n"
     ]
    }
   ],
   "source": [
    "def saludar(nombre):\n",
    "    return f\"Hola, {nombre}!\"\n",
    "\n",
    "print(saludar(\"Carlos\"))"
   ]
  },
  {
   "cell_type": "markdown",
   "id": "f711fc54",
   "metadata": {},
   "source": [
    "## Listas y Diccionarios\n",
    "Estructuras de datos comunes en Python."
   ]
  },
  {
   "cell_type": "code",
   "execution_count": 12,
   "id": "dd72e8a0",
   "metadata": {},
   "outputs": [
    {
     "name": "stdout",
     "output_type": "stream",
     "text": [
      "['manzana', 'banana', 'cereza']\n",
      "<class 'list'>\n",
      "{'nombre': 'Ana', 'edad': 25}\n",
      "<class 'dict'>\n"
     ]
    }
   ],
   "source": [
    "# Lista\n",
    "frutas = [\"manzana\", \"banana\", \"cereza\"]\n",
    "print(frutas)\n",
    "print(type(frutas))\n",
    "\n",
    "# Diccionario\n",
    "persona = {\"nombre\": \"Ana\", \"edad\": 25}\n",
    "print(persona)\n",
    "print(type(persona))"
   ]
  },
  {
   "cell_type": "markdown",
   "id": "4106e422",
   "metadata": {},
   "source": [
    "## Manejo de errores\n",
    "Usamos `try` y `except` para controlar errores."
   ]
  },
  {
   "cell_type": "code",
   "execution_count": 14,
   "id": "83f18c6b",
   "metadata": {},
   "outputs": [
    {
     "name": "stdout",
     "output_type": "stream",
     "text": [
      "No puedes dividir por cero.\n"
     ]
    }
   ],
   "source": [
    "try:\n",
    "    x = 10 / 0\n",
    "except ZeroDivisionError:\n",
    "    print(\"No puedes dividir por cero.\")"
   ]
  },
  {
   "cell_type": "markdown",
   "id": "886195b8",
   "metadata": {},
   "source": [
    "## Programación Orientada a Objetos\n",
    "La POO permite agrupar datos y funciones en estructuras llamadas **clases**."
   ]
  },
  {
   "cell_type": "markdown",
   "id": "18f2810e",
   "metadata": {},
   "source": [
    "## Clases y Objetos\n",
    "Creamos clases con la palabra clave `class` y objetos instanciando la clase."
   ]
  },
  {
   "cell_type": "code",
   "execution_count": 15,
   "id": "dcde5364",
   "metadata": {},
   "outputs": [
    {
     "name": "stdout",
     "output_type": "stream",
     "text": [
      "Luis 30\n"
     ]
    }
   ],
   "source": [
    "class Persona:\n",
    "    def __init__(self, nombre, edad):\n",
    "        self.nombre = nombre\n",
    "        self.edad = edad\n",
    "\n",
    "persona1 = Persona(\"Luis\", 30)\n",
    "print(persona1.nombre, persona1.edad)"
   ]
  },
  {
   "cell_type": "markdown",
   "id": "223cd955",
   "metadata": {},
   "source": [
    "## Métodos y Atributos\n",
    "Los métodos son funciones dentro de una clase."
   ]
  },
  {
   "cell_type": "code",
   "execution_count": 16,
   "id": "7fb2c6e0",
   "metadata": {},
   "outputs": [
    {
     "name": "stdout",
     "output_type": "stream",
     "text": [
      "Toby dice: ¡Guau!\n"
     ]
    }
   ],
   "source": [
    "class Perro:\n",
    "    def __init__(self, nombre):\n",
    "        self.nombre = nombre\n",
    "\n",
    "    def ladrar(self):\n",
    "        print(f\"{self.nombre} dice: ¡Guau!\")\n",
    "\n",
    "mi_perro = Perro(\"Toby\")\n",
    "mi_perro.ladrar()"
   ]
  },
  {
   "cell_type": "markdown",
   "id": "8d99a025",
   "metadata": {},
   "source": [
    "## Ejemplo completo con POO"
   ]
  },
  {
   "cell_type": "code",
   "execution_count": 17,
   "id": "f285da0b",
   "metadata": {},
   "outputs": [
    {
     "name": "stdout",
     "output_type": "stream",
     "text": [
      "Toyota Corolla está encendido.\n",
      "Toyota Corolla está apagado.\n"
     ]
    }
   ],
   "source": [
    "class Coche:\n",
    "    def __init__(self, marca, modelo):\n",
    "        self.marca = marca\n",
    "        self.modelo = modelo\n",
    "        self.encendido = False\n",
    "\n",
    "    def encender(self):\n",
    "        self.encendido = True\n",
    "        print(f\"{self.marca} {self.modelo} está encendido.\")\n",
    "\n",
    "    def apagar(self):\n",
    "        self.encendido = False\n",
    "        print(f\"{self.marca} {self.modelo} está apagado.\")\n",
    "\n",
    "mi_coche = Coche(\"Toyota\", \"Corolla\")\n",
    "mi_coche.encender()\n",
    "mi_coche.apagar()"
   ]
  },
  {
   "cell_type": "markdown",
   "id": "c14543ac",
   "metadata": {},
   "source": [
    "## 📝 Ejercicios propuestos\n",
    "1. Crear una función que reciba una lista de números y devuelva la suma.\n",
    "2. Crear una clase `Rectángulo` con métodos para calcular área y perímetro.\n",
    "3. Crear un programa que pida al usuario ingresar datos y los almacene en un diccionario."
   ]
  }
 ],
 "metadata": {
  "kernelspec": {
   "display_name": "Python 3",
   "language": "python",
   "name": "python3"
  },
  "language_info": {
   "codemirror_mode": {
    "name": "ipython",
    "version": 3
   },
   "file_extension": ".py",
   "mimetype": "text/x-python",
   "name": "python",
   "nbconvert_exporter": "python",
   "pygments_lexer": "ipython3",
   "version": "3.12.10"
  }
 },
 "nbformat": 4,
 "nbformat_minor": 5
}
